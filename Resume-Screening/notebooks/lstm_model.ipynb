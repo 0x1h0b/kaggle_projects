{
  "cells": [
    {
      "cell_type": "code",
      "execution_count": 2,
      "metadata": {
        "id": "db8d8a64"
      },
      "outputs": [],
      "source": [
        "import pandas as pd\n",
        "import numpy as np"
      ],
      "id": "db8d8a64"
    },
    {
      "cell_type": "code",
      "source": [
        "from google.colab import drive\n",
        "drive.mount('/content/drive')"
      ],
      "metadata": {
        "colab": {
          "base_uri": "https://localhost:8080/"
        },
        "id": "fDmQkSBnPxQR",
        "outputId": "39a785b7-8f6e-4628-fa47-06e5bf3e5a72"
      },
      "id": "fDmQkSBnPxQR",
      "execution_count": 4,
      "outputs": [
        {
          "output_type": "stream",
          "name": "stdout",
          "text": [
            "Mounted at /content/drive\n"
          ]
        }
      ]
    },
    {
      "cell_type": "code",
      "execution_count": 5,
      "metadata": {
        "id": "56bb3e47"
      },
      "outputs": [],
      "source": [
        "df = pd.read_csv(r'/content/drive/MyDrive/Colab Notebooks/cleaned_resume.csv')"
      ],
      "id": "56bb3e47"
    },
    {
      "cell_type": "code",
      "execution_count": 6,
      "metadata": {
        "colab": {
          "base_uri": "https://localhost:8080/",
          "height": 206
        },
        "id": "ff44c844",
        "outputId": "6ccc2295-4730-46d5-de28-74da0ac7a504"
      },
      "outputs": [
        {
          "output_type": "execute_result",
          "data": {
            "text/html": [
              "\n",
              "  <div id=\"df-f00491d0-8487-4acf-800c-8d46ddacd055\">\n",
              "    <div class=\"colab-df-container\">\n",
              "      <div>\n",
              "<style scoped>\n",
              "    .dataframe tbody tr th:only-of-type {\n",
              "        vertical-align: middle;\n",
              "    }\n",
              "\n",
              "    .dataframe tbody tr th {\n",
              "        vertical-align: top;\n",
              "    }\n",
              "\n",
              "    .dataframe thead th {\n",
              "        text-align: right;\n",
              "    }\n",
              "</style>\n",
              "<table border=\"1\" class=\"dataframe\">\n",
              "  <thead>\n",
              "    <tr style=\"text-align: right;\">\n",
              "      <th></th>\n",
              "      <th>Category</th>\n",
              "      <th>Resume</th>\n",
              "      <th>cleaned_resume</th>\n",
              "    </tr>\n",
              "  </thead>\n",
              "  <tbody>\n",
              "    <tr>\n",
              "      <th>0</th>\n",
              "      <td>6</td>\n",
              "      <td>Skills * Programming Languages: Python (pandas...</td>\n",
              "      <td>skills programming languages python pandas num...</td>\n",
              "    </tr>\n",
              "    <tr>\n",
              "      <th>1</th>\n",
              "      <td>6</td>\n",
              "      <td>Education Details \\r\\nMay 2013 to May 2017 B.E...</td>\n",
              "      <td>education details may 2013 may 2017 b.e uit-rg...</td>\n",
              "    </tr>\n",
              "    <tr>\n",
              "      <th>2</th>\n",
              "      <td>6</td>\n",
              "      <td>Areas of Interest Deep Learning, Control Syste...</td>\n",
              "      <td>areas interest deep learning control system de...</td>\n",
              "    </tr>\n",
              "    <tr>\n",
              "      <th>3</th>\n",
              "      <td>6</td>\n",
              "      <td>Skills â¢ R â¢ Python â¢ SAP HANA â¢ Table...</td>\n",
              "      <td>skills r python sap hana tableau sap hana sql ...</td>\n",
              "    </tr>\n",
              "    <tr>\n",
              "      <th>4</th>\n",
              "      <td>6</td>\n",
              "      <td>Education Details \\r\\n MCA   YMCAUST,  Faridab...</td>\n",
              "      <td>education details mca ymcaust faridabad haryan...</td>\n",
              "    </tr>\n",
              "  </tbody>\n",
              "</table>\n",
              "</div>\n",
              "      <button class=\"colab-df-convert\" onclick=\"convertToInteractive('df-f00491d0-8487-4acf-800c-8d46ddacd055')\"\n",
              "              title=\"Convert this dataframe to an interactive table.\"\n",
              "              style=\"display:none;\">\n",
              "        \n",
              "  <svg xmlns=\"http://www.w3.org/2000/svg\" height=\"24px\"viewBox=\"0 0 24 24\"\n",
              "       width=\"24px\">\n",
              "    <path d=\"M0 0h24v24H0V0z\" fill=\"none\"/>\n",
              "    <path d=\"M18.56 5.44l.94 2.06.94-2.06 2.06-.94-2.06-.94-.94-2.06-.94 2.06-2.06.94zm-11 1L8.5 8.5l.94-2.06 2.06-.94-2.06-.94L8.5 2.5l-.94 2.06-2.06.94zm10 10l.94 2.06.94-2.06 2.06-.94-2.06-.94-.94-2.06-.94 2.06-2.06.94z\"/><path d=\"M17.41 7.96l-1.37-1.37c-.4-.4-.92-.59-1.43-.59-.52 0-1.04.2-1.43.59L10.3 9.45l-7.72 7.72c-.78.78-.78 2.05 0 2.83L4 21.41c.39.39.9.59 1.41.59.51 0 1.02-.2 1.41-.59l7.78-7.78 2.81-2.81c.8-.78.8-2.07 0-2.86zM5.41 20L4 18.59l7.72-7.72 1.47 1.35L5.41 20z\"/>\n",
              "  </svg>\n",
              "      </button>\n",
              "      \n",
              "  <style>\n",
              "    .colab-df-container {\n",
              "      display:flex;\n",
              "      flex-wrap:wrap;\n",
              "      gap: 12px;\n",
              "    }\n",
              "\n",
              "    .colab-df-convert {\n",
              "      background-color: #E8F0FE;\n",
              "      border: none;\n",
              "      border-radius: 50%;\n",
              "      cursor: pointer;\n",
              "      display: none;\n",
              "      fill: #1967D2;\n",
              "      height: 32px;\n",
              "      padding: 0 0 0 0;\n",
              "      width: 32px;\n",
              "    }\n",
              "\n",
              "    .colab-df-convert:hover {\n",
              "      background-color: #E2EBFA;\n",
              "      box-shadow: 0px 1px 2px rgba(60, 64, 67, 0.3), 0px 1px 3px 1px rgba(60, 64, 67, 0.15);\n",
              "      fill: #174EA6;\n",
              "    }\n",
              "\n",
              "    [theme=dark] .colab-df-convert {\n",
              "      background-color: #3B4455;\n",
              "      fill: #D2E3FC;\n",
              "    }\n",
              "\n",
              "    [theme=dark] .colab-df-convert:hover {\n",
              "      background-color: #434B5C;\n",
              "      box-shadow: 0px 1px 3px 1px rgba(0, 0, 0, 0.15);\n",
              "      filter: drop-shadow(0px 1px 2px rgba(0, 0, 0, 0.3));\n",
              "      fill: #FFFFFF;\n",
              "    }\n",
              "  </style>\n",
              "\n",
              "      <script>\n",
              "        const buttonEl =\n",
              "          document.querySelector('#df-f00491d0-8487-4acf-800c-8d46ddacd055 button.colab-df-convert');\n",
              "        buttonEl.style.display =\n",
              "          google.colab.kernel.accessAllowed ? 'block' : 'none';\n",
              "\n",
              "        async function convertToInteractive(key) {\n",
              "          const element = document.querySelector('#df-f00491d0-8487-4acf-800c-8d46ddacd055');\n",
              "          const dataTable =\n",
              "            await google.colab.kernel.invokeFunction('convertToInteractive',\n",
              "                                                     [key], {});\n",
              "          if (!dataTable) return;\n",
              "\n",
              "          const docLinkHtml = 'Like what you see? Visit the ' +\n",
              "            '<a target=\"_blank\" href=https://colab.research.google.com/notebooks/data_table.ipynb>data table notebook</a>'\n",
              "            + ' to learn more about interactive tables.';\n",
              "          element.innerHTML = '';\n",
              "          dataTable['output_type'] = 'display_data';\n",
              "          await google.colab.output.renderOutput(dataTable, element);\n",
              "          const docLink = document.createElement('div');\n",
              "          docLink.innerHTML = docLinkHtml;\n",
              "          element.appendChild(docLink);\n",
              "        }\n",
              "      </script>\n",
              "    </div>\n",
              "  </div>\n",
              "  "
            ],
            "text/plain": [
              "   Category  ...                                     cleaned_resume\n",
              "0         6  ...  skills programming languages python pandas num...\n",
              "1         6  ...  education details may 2013 may 2017 b.e uit-rg...\n",
              "2         6  ...  areas interest deep learning control system de...\n",
              "3         6  ...  skills r python sap hana tableau sap hana sql ...\n",
              "4         6  ...  education details mca ymcaust faridabad haryan...\n",
              "\n",
              "[5 rows x 3 columns]"
            ]
          },
          "metadata": {},
          "execution_count": 6
        }
      ],
      "source": [
        "df.head()"
      ],
      "id": "ff44c844"
    },
    {
      "cell_type": "code",
      "source": [
        ""
      ],
      "metadata": {
        "id": "a89evZkTPt0R"
      },
      "id": "a89evZkTPt0R",
      "execution_count": 6,
      "outputs": []
    },
    {
      "cell_type": "code",
      "execution_count": 7,
      "metadata": {
        "colab": {
          "base_uri": "https://localhost:8080/"
        },
        "id": "f4b041ff",
        "outputId": "642bd5ff-7484-45b9-f519-91313dd322c3"
      },
      "outputs": [
        {
          "output_type": "stream",
          "name": "stdout",
          "text": [
            "<class 'pandas.core.frame.DataFrame'>\n",
            "RangeIndex: 962 entries, 0 to 961\n",
            "Data columns (total 3 columns):\n",
            " #   Column          Non-Null Count  Dtype \n",
            "---  ------          --------------  ----- \n",
            " 0   Category        962 non-null    int64 \n",
            " 1   Resume          962 non-null    object\n",
            " 2   cleaned_resume  962 non-null    object\n",
            "dtypes: int64(1), object(2)\n",
            "memory usage: 22.7+ KB\n"
          ]
        }
      ],
      "source": [
        "df.info()"
      ],
      "id": "f4b041ff"
    },
    {
      "cell_type": "markdown",
      "metadata": {
        "id": "1a6833a7"
      },
      "source": [
        "- Dataset is already cleaned."
      ],
      "id": "1a6833a7"
    },
    {
      "cell_type": "code",
      "execution_count": 8,
      "metadata": {
        "colab": {
          "base_uri": "https://localhost:8080/"
        },
        "id": "e3ecdd67",
        "outputId": "365ee0d2-412d-4a1f-8828-59f4c0bbfa27"
      },
      "outputs": [
        {
          "output_type": "stream",
          "name": "stdout",
          "text": [
            "2.7.0\n"
          ]
        }
      ],
      "source": [
        "import tensorflow as tf\n",
        "print(tf.__version__)"
      ],
      "id": "e3ecdd67"
    },
    {
      "cell_type": "code",
      "execution_count": 9,
      "metadata": {
        "colab": {
          "base_uri": "https://localhost:8080/"
        },
        "id": "59186c3e",
        "outputId": "73ac7c69-cfe5-4a54-ff93-8182f779b7a9"
      },
      "outputs": [
        {
          "output_type": "execute_result",
          "data": {
            "text/plain": [
              "501"
            ]
          },
          "metadata": {},
          "execution_count": 9
        }
      ],
      "source": [
        "all_resume_data = df['cleaned_resume'].values\n",
        "len(all_resume_data[0].split())"
      ],
      "id": "59186c3e"
    },
    {
      "cell_type": "code",
      "execution_count": 10,
      "metadata": {
        "id": "5f50dad5"
      },
      "outputs": [],
      "source": [
        "# df[df['Category']==0]"
      ],
      "id": "5f50dad5"
    },
    {
      "cell_type": "code",
      "execution_count": 11,
      "metadata": {
        "colab": {
          "base_uri": "https://localhost:8080/"
        },
        "id": "3656b634",
        "outputId": "50501b63-9ce0-4631-cb7d-10ffdb01c2d3"
      },
      "outputs": [
        {
          "output_type": "execute_result",
          "data": {
            "text/plain": [
              "array([ 6, 12,  0,  1, 24, 16, 22, 14,  5, 15,  4, 21,  2, 11, 18, 20,  8,\n",
              "       17, 19,  7, 13, 10,  9,  3, 23])"
            ]
          },
          "metadata": {},
          "execution_count": 11
        }
      ],
      "source": [
        "df['Category'].unique()  # 25 classes"
      ],
      "id": "3656b634"
    },
    {
      "cell_type": "code",
      "execution_count": 12,
      "metadata": {
        "colab": {
          "base_uri": "https://localhost:8080/"
        },
        "id": "bcfa45f0",
        "outputId": "38d14b0b-7ca9-47ca-815d-ea5ed85a439c"
      },
      "outputs": [
        {
          "output_type": "execute_result",
          "data": {
            "text/plain": [
              "25"
            ]
          },
          "metadata": {},
          "execution_count": 12
        }
      ],
      "source": [
        "len(df['Category'].unique())"
      ],
      "id": "bcfa45f0"
    },
    {
      "cell_type": "code",
      "execution_count": 13,
      "metadata": {
        "colab": {
          "base_uri": "https://localhost:8080/"
        },
        "id": "92bf5393",
        "outputId": "62b7ee87-d7e7-4535-937e-fd120d45b44c"
      },
      "outputs": [
        {
          "output_type": "execute_result",
          "data": {
            "text/plain": [
              "(962, numpy.ndarray)"
            ]
          },
          "metadata": {},
          "execution_count": 13
        }
      ],
      "source": [
        "len(all_resume_data),type(all_resume_data)"
      ],
      "id": "92bf5393"
    },
    {
      "cell_type": "markdown",
      "metadata": {
        "id": "189686ee"
      },
      "source": [
        "### Trying with TFIDF encoding from Tokenizer\n",
        "- encoding is of shape 962 X 7570 , 7570 is very huge"
      ],
      "id": "189686ee"
    },
    {
      "cell_type": "code",
      "source": [
        "from tensorflow.keras.preprocessing.text import Tokenizer\n",
        "\n",
        "tokenizer = Tokenizer()\n",
        "tokenizer.fit_on_texts(all_resume_data)\n",
        "\n",
        "print(\"The document count\",tokenizer.document_count)\n",
        "# print(\"The count of words\",tokenizer.word_counts)"
      ],
      "metadata": {
        "colab": {
          "base_uri": "https://localhost:8080/"
        },
        "id": "Y8Y4HjJRQDZv",
        "outputId": "cb22c531-fe98-4193-afd9-148961ed669d"
      },
      "id": "Y8Y4HjJRQDZv",
      "execution_count": 24,
      "outputs": [
        {
          "output_type": "stream",
          "name": "stdout",
          "text": [
            "The document count 962\n"
          ]
        }
      ]
    },
    {
      "cell_type": "code",
      "source": [
        "len(tokenizer.word_index),len(tokenizer.word_counts)"
      ],
      "metadata": {
        "colab": {
          "base_uri": "https://localhost:8080/"
        },
        "id": "4_0LjAB_QDkb",
        "outputId": "22094ff0-91bb-4a86-fd21-2869d7677234"
      },
      "id": "4_0LjAB_QDkb",
      "execution_count": 25,
      "outputs": [
        {
          "output_type": "execute_result",
          "data": {
            "text/plain": [
              "(7569, 7569)"
            ]
          },
          "metadata": {},
          "execution_count": 25
        }
      ]
    },
    {
      "cell_type": "code",
      "execution_count": 26,
      "metadata": {
        "id": "ea0d302f"
      },
      "outputs": [],
      "source": [
        "encoded_data = tokenizer.texts_to_sequences(all_resume_data)"
      ],
      "id": "ea0d302f"
    },
    {
      "cell_type": "code",
      "execution_count": 29,
      "metadata": {
        "colab": {
          "base_uri": "https://localhost:8080/"
        },
        "id": "b0ecdeea",
        "outputId": "388d96c5-b649-49ba-c20f-203fb7ae2ced"
      },
      "outputs": [
        {
          "output_type": "execute_result",
          "data": {
            "text/plain": [
              "(list, 962, 514)"
            ]
          },
          "metadata": {},
          "execution_count": 29
        }
      ],
      "source": [
        "type(encoded_data),len(encoded_data),len(encoded_data[0])"
      ],
      "id": "b0ecdeea"
    },
    {
      "cell_type": "code",
      "execution_count": 30,
      "metadata": {
        "colab": {
          "base_uri": "https://localhost:8080/"
        },
        "id": "3ec6b571",
        "outputId": "17d9c4e9-1957-4f29-b395-f10c1f8945d2"
      },
      "outputs": [
        {
          "output_type": "execute_result",
          "data": {
            "text/plain": [
              "[34, 231, 232, 62, 1697, 1085, 4389, 2347, 605, 2348]"
            ]
          },
          "metadata": {},
          "execution_count": 30
        }
      ],
      "source": [
        "list(encoded_data[0])[0:10]"
      ],
      "id": "3ec6b571"
    },
    {
      "cell_type": "code",
      "execution_count": 36,
      "metadata": {
        "colab": {
          "base_uri": "https://localhost:8080/"
        },
        "id": "c0eb61ad",
        "outputId": "97d13648-44ee-4d16-e1d9-7adcef094720"
      },
      "outputs": [
        {
          "output_type": "execute_result",
          "data": {
            "text/plain": [
              "(962, 1000)"
            ]
          },
          "metadata": {},
          "execution_count": 36
        }
      ],
      "source": [
        "from tensorflow.keras.preprocessing.sequence import pad_sequences\n",
        "\n",
        "max_seq_len = 1000\n",
        "final_encoded_data = pad_sequences(encoded_data,padding=\"post\",maxlen=max_seq_len)\n",
        "final_encoded_data.shape"
      ],
      "id": "c0eb61ad"
    },
    {
      "cell_type": "code",
      "source": [
        "final_encoded_data[0]"
      ],
      "metadata": {
        "colab": {
          "base_uri": "https://localhost:8080/"
        },
        "id": "r4nbpph9SOot",
        "outputId": "e835a475-c328-4643-9694-2c1a0566c555"
      },
      "id": "r4nbpph9SOot",
      "execution_count": 37,
      "outputs": [
        {
          "output_type": "execute_result",
          "data": {
            "text/plain": [
              "array([  34,  231,  232,   62, 1697, 1085, 4389, 2347,  605, 2348,   23,\n",
              "         27,  136,  139,  176,  172,  456, 2101, 2849, 3128, 2850, 2851,\n",
              "       3622,  655, 6186, 6187,  740,  409,  113,  551, 4390, 1546,  113,\n",
              "       2210,  438,  405, 4391, 2349, 1698, 1260, 4392, 4393, 6188, 1231,\n",
              "       6189,   16, 4394,   72, 2102, 2852,  796, 6190, 4395,  439, 1790,\n",
              "        439, 6191, 3304, 2348, 6192,  908, 1871,  692, 3305,  127,  196,\n",
              "        521,   11, 6193, 6194,   62, 2350,  406, 3306,   92, 1280, 1072,\n",
              "       2853,  215,  777,  172,   38,    6,    7,  111, 1904, 1791,    7,\n",
              "        111, 1904, 1791, 4274, 3067, 1617,   24,    6,  136,    1,  168,\n",
              "          4,  139,    1,  168,    4,   62,    1,  168,   53,    6,    2,\n",
              "       4274, 3067, 1617,    5, 1618, 4396, 6195,   33, 1904,   74, 3129,\n",
              "        185, 4397,   74, 3129,  185, 2581, 6196,  185,   43, 1099,  295,\n",
              "        393,   42,  213,  817,   10, 4275,  121,  483,  185,  192,  243,\n",
              "       3130, 1073,   75, 6197,  909,  243, 6198, 1354, 1318, 1698, 1260,\n",
              "       1872,  599, 6199, 3623, 2582,  868,   69, 5122, 6200,  185,  301,\n",
              "        104,  104,  382,  198,  379,   17, 1699,  552, 1354,  113, 2243,\n",
              "         90,  526,  493,    7,   76,  282, 6201, 6202,  108,  383,  243,\n",
              "       4397, 2581, 1354, 1318, 1698, 1260, 4398,  537, 6203,  410,  125,\n",
              "       1905,  552,  218,  286, 3131, 6204,  693, 1618,  129,   83,  114,\n",
              "         49,   62, 2347,  605, 6205, 6206, 6207, 4399, 3307, 2849, 3128,\n",
              "       4392, 4393, 1698, 1260, 6208,  493, 6209, 1546,  113, 6210, 6211,\n",
              "        908,  713,  152,  221,    7,  111,  258, 2854,   84,  652,  141,\n",
              "        493,  295,  754, 1619,   46,  185,    7, 1142,   46,  953, 1620,\n",
              "          7,  988,  261,   15,  254, 1546,  682, 3308, 4400,   69, 1110,\n",
              "        113,   46,  553,  291,   88,  755,  206, 2103,  615, 1111, 1620,\n",
              "       3309,   73, 2583, 2855, 2104,  682, 3308, 2855,  291, 1620,  755,\n",
              "       6212,  551,  283,  206,  921,  908,  989,  366,  152, 4394, 4401,\n",
              "        125,  109, 1319, 4401,  261,  219,  954, 1281, 1957, 1547,  586,\n",
              "       6213, 1873,  229, 2351, 2352, 6214,  383,  158,  129, 1957, 1700,\n",
              "       3624,  243,  706,  308,  192,  156, 1261, 6215, 1701,  109, 3310,\n",
              "        164,  721,  797, 2856,  229,  955,  164, 2857, 1957,   77,  109,\n",
              "        102, 6216,  797, 2584, 1957,  114,   49,   62, 2210,  438,  405,\n",
              "       4402, 6217, 1698, 1260, 1546,  113,  551, 4390, 2347,  605,  136,\n",
              "        139, 2102,   90,  922, 2549,  329, 2105, 2585,   90,  860,   58,\n",
              "        798,   90,  922, 3132, 6218,  955,  291, 3311,    7,  741, 6219,\n",
              "        923,  112, 2549,  479, 6220, 6221,   90,  275, 3248,    7,  221,\n",
              "        741, 1018, 6222,   95,  494, 1018,  656, 4403,    7,   90, 2353,\n",
              "        622, 3625, 1874, 1600,  206,  921, 2858,  989,   22, 3304, 4404,\n",
              "       6223,  113,    7, 1261,   90,    7, 1051,  286, 1208, 2244, 1182,\n",
              "       6224, 6225, 4404, 1232,  493, 1600,  113, 1874, 1600, 5086, 1320,\n",
              "       3626, 6226, 2245, 6227,   90, 1183,  128, 2859, 6228, 2246,   98,\n",
              "       6229, 3133, 1621, 2354,  114,   49,   62, 2350, 1874, 1600, 3304,\n",
              "       1618, 2854,  192, 1618,  295, 4405,  192,  185, 3131, 6230,  223,\n",
              "       6231, 1618,  295, 4405,  192, 3627,  394,   81, 3134,  295,   57,\n",
              "        395,   94,   93,   85,  141, 6232,   61, 1100,   94,  497, 6233,\n",
              "       5882, 1618,  672, 1209,  295,  114,   49,  127,  136, 2102,  139,\n",
              "        196,  255, 1086,  439, 4395,  439, 1790,  439,    0,    0,    0,\n",
              "          0,    0,    0,    0,    0,    0,    0,    0,    0,    0,    0,\n",
              "          0,    0,    0,    0,    0,    0,    0,    0,    0,    0,    0,\n",
              "          0,    0,    0,    0,    0,    0,    0,    0,    0,    0,    0,\n",
              "          0,    0,    0,    0,    0,    0,    0,    0,    0,    0,    0,\n",
              "          0,    0,    0,    0,    0,    0,    0,    0,    0,    0,    0,\n",
              "          0,    0,    0,    0,    0,    0,    0,    0,    0,    0,    0,\n",
              "          0,    0,    0,    0,    0,    0,    0,    0,    0,    0,    0,\n",
              "          0,    0,    0,    0,    0,    0,    0,    0,    0,    0,    0,\n",
              "          0,    0,    0,    0,    0,    0,    0,    0,    0,    0,    0,\n",
              "          0,    0,    0,    0,    0,    0,    0,    0,    0,    0,    0,\n",
              "          0,    0,    0,    0,    0,    0,    0,    0,    0,    0,    0,\n",
              "          0,    0,    0,    0,    0,    0,    0,    0,    0,    0,    0,\n",
              "          0,    0,    0,    0,    0,    0,    0,    0,    0,    0,    0,\n",
              "          0,    0,    0,    0,    0,    0,    0,    0,    0,    0,    0,\n",
              "          0,    0,    0,    0,    0,    0,    0,    0,    0,    0,    0,\n",
              "          0,    0,    0,    0,    0,    0,    0,    0,    0,    0,    0,\n",
              "          0,    0,    0,    0,    0,    0,    0,    0,    0,    0,    0,\n",
              "          0,    0,    0,    0,    0,    0,    0,    0,    0,    0,    0,\n",
              "          0,    0,    0,    0,    0,    0,    0,    0,    0,    0,    0,\n",
              "          0,    0,    0,    0,    0,    0,    0,    0,    0,    0,    0,\n",
              "          0,    0,    0,    0,    0,    0,    0,    0,    0,    0,    0,\n",
              "          0,    0,    0,    0,    0,    0,    0,    0,    0,    0,    0,\n",
              "          0,    0,    0,    0,    0,    0,    0,    0,    0,    0,    0,\n",
              "          0,    0,    0,    0,    0,    0,    0,    0,    0,    0,    0,\n",
              "          0,    0,    0,    0,    0,    0,    0,    0,    0,    0,    0,\n",
              "          0,    0,    0,    0,    0,    0,    0,    0,    0,    0,    0,\n",
              "          0,    0,    0,    0,    0,    0,    0,    0,    0,    0,    0,\n",
              "          0,    0,    0,    0,    0,    0,    0,    0,    0,    0,    0,\n",
              "          0,    0,    0,    0,    0,    0,    0,    0,    0,    0,    0,\n",
              "          0,    0,    0,    0,    0,    0,    0,    0,    0,    0,    0,\n",
              "          0,    0,    0,    0,    0,    0,    0,    0,    0,    0,    0,\n",
              "          0,    0,    0,    0,    0,    0,    0,    0,    0,    0,    0,\n",
              "          0,    0,    0,    0,    0,    0,    0,    0,    0,    0,    0,\n",
              "          0,    0,    0,    0,    0,    0,    0,    0,    0,    0,    0,\n",
              "          0,    0,    0,    0,    0,    0,    0,    0,    0,    0,    0,\n",
              "          0,    0,    0,    0,    0,    0,    0,    0,    0,    0,    0,\n",
              "          0,    0,    0,    0,    0,    0,    0,    0,    0,    0,    0,\n",
              "          0,    0,    0,    0,    0,    0,    0,    0,    0,    0,    0,\n",
              "          0,    0,    0,    0,    0,    0,    0,    0,    0,    0,    0,\n",
              "          0,    0,    0,    0,    0,    0,    0,    0,    0,    0,    0,\n",
              "          0,    0,    0,    0,    0,    0,    0,    0,    0,    0,    0,\n",
              "          0,    0,    0,    0,    0,    0,    0,    0,    0,    0,    0,\n",
              "          0,    0,    0,    0,    0,    0,    0,    0,    0,    0,    0,\n",
              "          0,    0,    0,    0,    0,    0,    0,    0,    0,    0],\n",
              "      dtype=int32)"
            ]
          },
          "metadata": {},
          "execution_count": 37
        }
      ]
    },
    {
      "cell_type": "code",
      "execution_count": 38,
      "metadata": {
        "id": "e273537b"
      },
      "outputs": [],
      "source": [
        "y = pd.get_dummies(df['Category']).values"
      ],
      "id": "e273537b"
    },
    {
      "cell_type": "code",
      "execution_count": 39,
      "metadata": {
        "colab": {
          "base_uri": "https://localhost:8080/"
        },
        "id": "7935e6c9",
        "outputId": "f389e0ec-d140-4a76-fdb5-8b9c655420f3"
      },
      "outputs": [
        {
          "output_type": "execute_result",
          "data": {
            "text/plain": [
              "array([0, 0, 0, 0, 0, 0, 1, 0, 0, 0, 0, 0, 0, 0, 0, 0, 0, 0, 0, 0, 0, 0,\n",
              "       0, 0, 0], dtype=uint8)"
            ]
          },
          "metadata": {},
          "execution_count": 39
        }
      ],
      "source": [
        "y[0]"
      ],
      "id": "7935e6c9"
    },
    {
      "cell_type": "code",
      "execution_count": 79,
      "metadata": {
        "colab": {
          "base_uri": "https://localhost:8080/"
        },
        "id": "b71aedb9",
        "outputId": "bb57a158-07c4-4e08-8ce6-bfa40a79da99"
      },
      "outputs": [
        {
          "output_type": "stream",
          "name": "stdout",
          "text": [
            "(769, 1000) (769, 25)\n",
            "(193, 1000) (193, 25)\n"
          ]
        }
      ],
      "source": [
        "from sklearn.model_selection import train_test_split\n",
        "\n",
        "# Y = df['Category'].values\n",
        "X = final_encoded_data\n",
        "Y_onehot = pd.get_dummies(df['Category']).values\n",
        "\n",
        "x_train,x_test,y_train,y_test = train_test_split(X,Y_onehot,random_state=123,test_size=0.2)\n",
        "print(x_train.shape,y_train.shape)\n",
        "print(x_test.shape,y_test.shape)"
      ],
      "id": "b71aedb9"
    },
    {
      "cell_type": "code",
      "execution_count": 80,
      "metadata": {
        "id": "874f1db5"
      },
      "outputs": [],
      "source": [
        "max_no_words = 10000\n",
        "embd_dim = 100\n",
        "max_seq_len = x_train.shape[1]"
      ],
      "id": "874f1db5"
    },
    {
      "cell_type": "code",
      "execution_count": 81,
      "metadata": {
        "id": "5386df80"
      },
      "outputs": [],
      "source": [
        "from tensorflow.keras.models import Sequential\n",
        "from tensorflow.keras.layers import Dense,Embedding,LSTM,SpatialDropout1D,Flatten\n",
        "from tensorflow.keras.callbacks import EarlyStopping\n",
        "from tensorflow.keras.layers import Dropout"
      ],
      "id": "5386df80"
    },
    {
      "cell_type": "code",
      "execution_count": 103,
      "metadata": {
        "colab": {
          "base_uri": "https://localhost:8080/"
        },
        "id": "c43d626a",
        "outputId": "4ab1bcda-8345-473d-987e-54bb72822c93"
      },
      "outputs": [
        {
          "output_type": "stream",
          "name": "stdout",
          "text": [
            "Model: \"sequential_14\"\n",
            "_________________________________________________________________\n",
            " Layer (type)                Output Shape              Param #   \n",
            "=================================================================\n",
            " embedding_15 (Embedding)    (None, 1000, 100)         1000000   \n",
            "                                                                 \n",
            " flatten_7 (Flatten)         (None, 100000)            0         \n",
            "                                                                 \n",
            " dense_42 (Dense)            (None, 512)               51200512  \n",
            "                                                                 \n",
            " dropout_1 (Dropout)         (None, 512)               0         \n",
            "                                                                 \n",
            " dense_43 (Dense)            (None, 256)               131328    \n",
            "                                                                 \n",
            " dropout_2 (Dropout)         (None, 256)               0         \n",
            "                                                                 \n",
            " dense_44 (Dense)            (None, 128)               32896     \n",
            "                                                                 \n",
            " dropout_3 (Dropout)         (None, 128)               0         \n",
            "                                                                 \n",
            " dense_45 (Dense)            (None, 25)                3225      \n",
            "                                                                 \n",
            "=================================================================\n",
            "Total params: 52,367,961\n",
            "Trainable params: 52,367,961\n",
            "Non-trainable params: 0\n",
            "_________________________________________________________________\n",
            "None\n"
          ]
        }
      ],
      "source": [
        "# model creation\n",
        "model1 = Sequential([\n",
        "    Embedding(max_no_words,embd_dim,input_length=max_seq_len),\n",
        "    # LSTM(100,return_sequences=True),\n",
        "    # LSTM(100),#,dropout=0.2),\n",
        "    Flatten(),\n",
        "    Dense(512,activation=\"relu\"),\n",
        "    Dropout(0.2),\n",
        "    Dense(256,activation=\"relu\"),\n",
        "    Dropout(0.2),\n",
        "    Dense(128,activation=\"relu\"),\n",
        "    Dropout(0.2),\n",
        "    Dense(25,activation=\"softmax\")\n",
        "])\n",
        "model1.compile(loss=\"categorical_crossentropy\",optimizer='adam',metrics=['accuracy'])\n",
        "print(model1.summary())"
      ],
      "id": "c43d626a"
    },
    {
      "cell_type": "code",
      "execution_count": 104,
      "metadata": {
        "colab": {
          "base_uri": "https://localhost:8080/"
        },
        "id": "c07affbe",
        "scrolled": true,
        "outputId": "7ac53f55-eb11-4c0f-9f24-7e1f2b861199"
      },
      "outputs": [
        {
          "output_type": "stream",
          "name": "stdout",
          "text": [
            "Epoch 1/20\n",
            "4/4 [==============================] - 2s 203ms/step - loss: 3.6102 - accuracy: 0.0858 - val_loss: 3.0231 - val_accuracy: 0.2539\n",
            "Epoch 2/20\n",
            "4/4 [==============================] - 0s 97ms/step - loss: 3.2022 - accuracy: 0.1651 - val_loss: 2.8811 - val_accuracy: 0.1917\n",
            "Epoch 3/20\n",
            "4/4 [==============================] - 0s 91ms/step - loss: 3.0267 - accuracy: 0.2302 - val_loss: 2.6229 - val_accuracy: 0.2124\n",
            "Epoch 4/20\n",
            "4/4 [==============================] - 0s 85ms/step - loss: 2.8113 - accuracy: 0.2536 - val_loss: 2.5176 - val_accuracy: 0.4197\n",
            "Epoch 5/20\n",
            "4/4 [==============================] - 0s 79ms/step - loss: 2.6364 - accuracy: 0.2692 - val_loss: 2.4410 - val_accuracy: 0.2332\n",
            "Epoch 6/20\n",
            "4/4 [==============================] - 0s 84ms/step - loss: 2.5354 - accuracy: 0.3368 - val_loss: 2.3043 - val_accuracy: 0.3472\n",
            "Epoch 7/20\n",
            "4/4 [==============================] - 0s 83ms/step - loss: 2.2634 - accuracy: 0.3654 - val_loss: 2.1539 - val_accuracy: 0.4404\n",
            "Epoch 8/20\n",
            "4/4 [==============================] - 0s 85ms/step - loss: 1.9909 - accuracy: 0.4668 - val_loss: 1.8109 - val_accuracy: 0.5440\n",
            "Epoch 9/20\n",
            "4/4 [==============================] - 0s 80ms/step - loss: 1.6815 - accuracy: 0.5124 - val_loss: 1.4627 - val_accuracy: 0.5648\n",
            "Epoch 10/20\n",
            "4/4 [==============================] - 0s 82ms/step - loss: 1.3985 - accuracy: 0.6112 - val_loss: 1.1698 - val_accuracy: 0.6943\n",
            "Epoch 11/20\n",
            "4/4 [==============================] - 0s 78ms/step - loss: 1.2621 - accuracy: 0.6515 - val_loss: 0.9414 - val_accuracy: 0.7098\n",
            "Epoch 12/20\n",
            "4/4 [==============================] - 0s 80ms/step - loss: 0.9816 - accuracy: 0.7269 - val_loss: 0.7459 - val_accuracy: 0.8549\n",
            "Epoch 13/20\n",
            "4/4 [==============================] - 0s 86ms/step - loss: 0.8308 - accuracy: 0.7581 - val_loss: 0.5724 - val_accuracy: 0.8653\n",
            "Epoch 14/20\n",
            "4/4 [==============================] - 0s 94ms/step - loss: 0.5811 - accuracy: 0.8414 - val_loss: 0.4126 - val_accuracy: 0.9119\n",
            "Epoch 15/20\n",
            "4/4 [==============================] - 0s 81ms/step - loss: 0.4267 - accuracy: 0.8934 - val_loss: 0.3126 - val_accuracy: 0.9223\n",
            "Epoch 16/20\n",
            "4/4 [==============================] - 0s 85ms/step - loss: 0.2958 - accuracy: 0.9363 - val_loss: 0.2665 - val_accuracy: 0.9534\n",
            "Epoch 17/20\n",
            "4/4 [==============================] - 0s 80ms/step - loss: 0.2458 - accuracy: 0.9558 - val_loss: 0.2995 - val_accuracy: 0.9223\n",
            "Epoch 18/20\n",
            "4/4 [==============================] - 0s 80ms/step - loss: 0.2535 - accuracy: 0.9363 - val_loss: 0.2519 - val_accuracy: 0.9275\n",
            "Epoch 19/20\n",
            "4/4 [==============================] - 0s 81ms/step - loss: 0.2021 - accuracy: 0.9571 - val_loss: 0.1617 - val_accuracy: 0.9637\n",
            "Epoch 20/20\n",
            "4/4 [==============================] - 0s 85ms/step - loss: 0.1053 - accuracy: 0.9662 - val_loss: 0.1209 - val_accuracy: 0.9741\n"
          ]
        }
      ],
      "source": [
        "epochs = 20\n",
        "batch_size=256\n",
        "# print(x_train.shape,y_train.shape)\n",
        "history = model1.fit(x_train,y_train,epochs=epochs,batch_size=batch_size,validation_data=(x_test,y_test))"
      ],
      "id": "c07affbe"
    },
    {
      "cell_type": "code",
      "source": [
        "# print(X_test.shape)\n",
        "# x_test = tf.sparse.reorder(X_test)\n",
        "# x_test.shape"
      ],
      "metadata": {
        "id": "PpmaxUFvbtrX"
      },
      "id": "PpmaxUFvbtrX",
      "execution_count": 72,
      "outputs": []
    },
    {
      "cell_type": "code",
      "execution_count": 70,
      "metadata": {
        "colab": {
          "base_uri": "https://localhost:8080/",
          "height": 389
        },
        "id": "b89LQbW3H4gv",
        "outputId": "ba9136db-d671-4953-cf07-baf4452a6143"
      },
      "outputs": [
        {
          "output_type": "error",
          "ename": "InvalidArgumentError",
          "evalue": "ignored",
          "traceback": [
            "\u001b[0;31m---------------------------------------------------------------------------\u001b[0m",
            "\u001b[0;31mInvalidArgumentError\u001b[0m                      Traceback (most recent call last)",
            "\u001b[0;32m<ipython-input-70-f584b4a554ce>\u001b[0m in \u001b[0;36m<module>\u001b[0;34m()\u001b[0m\n\u001b[0;32m----> 1\u001b[0;31m \u001b[0maccr\u001b[0m \u001b[0;34m=\u001b[0m \u001b[0mmodel\u001b[0m\u001b[0;34m.\u001b[0m\u001b[0mevaluate\u001b[0m\u001b[0;34m(\u001b[0m\u001b[0mX_test\u001b[0m\u001b[0;34m,\u001b[0m\u001b[0my_test\u001b[0m\u001b[0;34m)\u001b[0m\u001b[0;34m\u001b[0m\u001b[0;34m\u001b[0m\u001b[0m\n\u001b[0m\u001b[1;32m      2\u001b[0m \u001b[0maccr\u001b[0m\u001b[0;34m\u001b[0m\u001b[0;34m\u001b[0m\u001b[0m\n",
            "\u001b[0;32m/usr/local/lib/python3.7/dist-packages/keras/utils/traceback_utils.py\u001b[0m in \u001b[0;36merror_handler\u001b[0;34m(*args, **kwargs)\u001b[0m\n\u001b[1;32m     65\u001b[0m     \u001b[0;32mexcept\u001b[0m \u001b[0mException\u001b[0m \u001b[0;32mas\u001b[0m \u001b[0me\u001b[0m\u001b[0;34m:\u001b[0m  \u001b[0;31m# pylint: disable=broad-except\u001b[0m\u001b[0;34m\u001b[0m\u001b[0;34m\u001b[0m\u001b[0m\n\u001b[1;32m     66\u001b[0m       \u001b[0mfiltered_tb\u001b[0m \u001b[0;34m=\u001b[0m \u001b[0m_process_traceback_frames\u001b[0m\u001b[0;34m(\u001b[0m\u001b[0me\u001b[0m\u001b[0;34m.\u001b[0m\u001b[0m__traceback__\u001b[0m\u001b[0;34m)\u001b[0m\u001b[0;34m\u001b[0m\u001b[0;34m\u001b[0m\u001b[0m\n\u001b[0;32m---> 67\u001b[0;31m       \u001b[0;32mraise\u001b[0m \u001b[0me\u001b[0m\u001b[0;34m.\u001b[0m\u001b[0mwith_traceback\u001b[0m\u001b[0;34m(\u001b[0m\u001b[0mfiltered_tb\u001b[0m\u001b[0;34m)\u001b[0m \u001b[0;32mfrom\u001b[0m \u001b[0;32mNone\u001b[0m\u001b[0;34m\u001b[0m\u001b[0;34m\u001b[0m\u001b[0m\n\u001b[0m\u001b[1;32m     68\u001b[0m     \u001b[0;32mfinally\u001b[0m\u001b[0;34m:\u001b[0m\u001b[0;34m\u001b[0m\u001b[0;34m\u001b[0m\u001b[0m\n\u001b[1;32m     69\u001b[0m       \u001b[0;32mdel\u001b[0m \u001b[0mfiltered_tb\u001b[0m\u001b[0;34m\u001b[0m\u001b[0;34m\u001b[0m\u001b[0m\n",
            "\u001b[0;32m/usr/local/lib/python3.7/dist-packages/tensorflow/python/framework/ops.py\u001b[0m in \u001b[0;36mraise_from_not_ok_status\u001b[0;34m(e, name)\u001b[0m\n\u001b[1;32m   7105\u001b[0m \u001b[0;32mdef\u001b[0m \u001b[0mraise_from_not_ok_status\u001b[0m\u001b[0;34m(\u001b[0m\u001b[0me\u001b[0m\u001b[0;34m,\u001b[0m \u001b[0mname\u001b[0m\u001b[0;34m)\u001b[0m\u001b[0;34m:\u001b[0m\u001b[0;34m\u001b[0m\u001b[0;34m\u001b[0m\u001b[0m\n\u001b[1;32m   7106\u001b[0m   \u001b[0me\u001b[0m\u001b[0;34m.\u001b[0m\u001b[0mmessage\u001b[0m \u001b[0;34m+=\u001b[0m \u001b[0;34m(\u001b[0m\u001b[0;34m\" name: \"\u001b[0m \u001b[0;34m+\u001b[0m \u001b[0mname\u001b[0m \u001b[0;32mif\u001b[0m \u001b[0mname\u001b[0m \u001b[0;32mis\u001b[0m \u001b[0;32mnot\u001b[0m \u001b[0;32mNone\u001b[0m \u001b[0;32melse\u001b[0m \u001b[0;34m\"\"\u001b[0m\u001b[0;34m)\u001b[0m\u001b[0;34m\u001b[0m\u001b[0;34m\u001b[0m\u001b[0m\n\u001b[0;32m-> 7107\u001b[0;31m   \u001b[0;32mraise\u001b[0m \u001b[0mcore\u001b[0m\u001b[0;34m.\u001b[0m\u001b[0m_status_to_exception\u001b[0m\u001b[0;34m(\u001b[0m\u001b[0me\u001b[0m\u001b[0;34m)\u001b[0m \u001b[0;32mfrom\u001b[0m \u001b[0;32mNone\u001b[0m  \u001b[0;31m# pylint: disable=protected-access\u001b[0m\u001b[0;34m\u001b[0m\u001b[0;34m\u001b[0m\u001b[0m\n\u001b[0m\u001b[1;32m   7108\u001b[0m \u001b[0;34m\u001b[0m\u001b[0m\n\u001b[1;32m   7109\u001b[0m \u001b[0;34m\u001b[0m\u001b[0m\n",
            "\u001b[0;31mInvalidArgumentError\u001b[0m: indices[1] = [0,1493] is out of order. Many sparse ops require sorted indices.\n    Use `tf.sparse.reorder` to create a correctly ordered copy.\n\n [Op:SerializeManySparse]"
          ]
        }
      ],
      "source": [
        "accr = model.evaluate(X_test,y_test)\n",
        "accr"
      ],
      "id": "b89LQbW3H4gv"
    },
    {
      "cell_type": "code",
      "source": [
        "import matplotlib.pyplot as plt\n",
        "plt.title('Loss')\n",
        "plt.plot(history.history['loss'], label='train')\n",
        "plt.plot(history.history['val_loss'], label='test')\n",
        "plt.legend()\n",
        "plt.show();"
      ],
      "metadata": {
        "colab": {
          "base_uri": "https://localhost:8080/",
          "height": 281
        },
        "id": "HiiXBuGxc70Q",
        "outputId": "ae0c4c5f-e582-420f-fb3f-d84efc7753c2"
      },
      "id": "HiiXBuGxc70Q",
      "execution_count": 105,
      "outputs": [
        {
          "output_type": "display_data",
          "data": {
            "image/png": "[encoded data removed]",
            "text/plain": [
              "<Figure size 432x288 with 1 Axes>"
            ]
          },
          "metadata": {
            "needs_background": "light"
          }
        }
      ]
    },
    {
      "cell_type": "code",
      "source": [
        "history.history.keys()"
      ],
      "metadata": {
        "colab": {
          "base_uri": "https://localhost:8080/"
        },
        "id": "sucU5s63gqgB",
        "outputId": "155b9b2a-0f49-4735-fe22-2b4c246f2a97"
      },
      "id": "sucU5s63gqgB",
      "execution_count": 106,
      "outputs": [
        {
          "output_type": "execute_result",
          "data": {
            "text/plain": [
              "dict_keys(['loss', 'accuracy', 'val_loss', 'val_accuracy'])"
            ]
          },
          "metadata": {},
          "execution_count": 106
        }
      ]
    },
    {
      "cell_type": "code",
      "source": [
        "import matplotlib.pyplot as plt\n",
        "plt.title('Accuracy')\n",
        "plt.plot(history.history['accuracy'], label='train')\n",
        "plt.plot(history.history['val_accuracy'], label='test')\n",
        "plt.legend()\n",
        "plt.show();"
      ],
      "metadata": {
        "colab": {
          "base_uri": "https://localhost:8080/",
          "height": 281
        },
        "id": "J6yGyzsEgmCQ",
        "outputId": "7cdd0e8a-3174-450a-fd33-40944be653a6"
      },
      "id": "J6yGyzsEgmCQ",
      "execution_count": 107,
      "outputs": [
        {
          "output_type": "display_data",
          "data": {
            "image/png": "[encoded data removed]",
            "text/plain": [
              "<Figure size 432x288 with 1 Axes>"
            ]
          },
          "metadata": {
            "needs_background": "light"
          }
        }
      ]
    },
    {
      "cell_type": "code",
      "source": [
        "# testing\n",
        "# test = 'rohan chaudhury 3645 wellborn rd bryan texas 77801 cid:131 979 985-8903 rohan.chaudhury.rc cid:239 linkedin.com/in/chaudhury-rohan github.com/rohan-chaudhury education texas a m university college station texas august 2021 may 2023 expected master science computer science graduate scholarship gpa first semester student national institute technology nit durgapur india august 2015 may 2019 bachelor technology electronics communication engineering cumulative gpa 9.25/10 courses machine learning software engineering pattern recognition deep learning algorithms data structures object oriented programming technical skills languages python c++ c java sql ruby bash html/css xml libraries tensorflow pytorch caffe keras scikit-learn opencv onnx pandas numpy selenium regex toolkits artificial intelligence model efficiency toolkit aimet snapdragon neural processing engine snpe sdk others linux git matlab jupyter notebook jira docker salesforce heroku google cloud platform aws work experience qualcomm india private ltd. november 2019 august 2021 associate software engineer artificial intelligence software team hyderabad india optimized various trained neural network models samsung oneplus oem customers utilizing model compression quantization fine-tuning techniques run models efficiently dsp cores snapdragon chipsets fixed several critical bugs snapdragon neural processing engine sdk enhance core features offers developed new recommendation system give suggestions similar salesforce issues raised customers past newly raised customer issues reported uracy 74 across various engineering divisions qualcomm developed widely used 150 internal users/month automation software automatically download selenium parse regex generate error logs reports device crash dumps sent customers salesforce identified fixed critical docker bokeh server documentation bugs aimet open-source qualcomm project technologies libraries python c++ snpe sdk qualcomm neural processing sdk aimet cuda salesforce tensorflow caffe pytorch onnx keras scikit-learn docker numpy pandas regex pricewaterhousecoopers pwc pvt ltd. internship may 2018 july 2018 technology consultant intern kolkata west bengal india developed ai chatbot using google dialogflow sap systems applications products data processing cloud platform send receive query data sap cloud database real-time documentation technologies libraries python javascript sap cloud platform sap hana cockpit google dialogflow academic personal projects academic projects python pytorch tensorflow numpy pandas javascript html 2021 designedanadaboostclassifierforfacedetectionusingviolajonesalgorithmwith97 uracy medium article code utilized 1 bayesian optimization hyper-parameter tuning train custom convolutional neural network 2 fine-tuning pre-trained resnet50 mobilenetv2 models facial expression recognition icml 2013 code estimated public speaking anxiety verbio dataset using 1 fnn trained features modified using filter wrapper category selection methods principal component analysis 2 rnn gru lstm networks poster code trained decision tree random forest adaboost regressor models predict hiring chances based job interviews code implemented k-nearest neighbour classifier cancer death risk prediction using haberman survival dataset code utilized k-means gaussian mixture models clustering countries based longitude latitude code designed linear regression model scratch prediction outcomes game setting code implemented enhanced javascript html content animations games texas a m vetmed website video personal projects python openai universe android studio unity c++ tensorflow selenium 2017 2020 fabricated reinforcement learning rl tutorial series demonstrate steps make ai game bot using rl developed rfid card based authentication system project using raspberry pi github link explanation video createdanaugmentedreality-basedandroid applicationinunitythatcanrenderanyvideooveranysurfaceonscreen developed ai chatbot android application using android studio google dialogflow github link developedsmart travel route finderapplicationinc++usingdijkstra salgorithmtogetoptimalroutebetweencities trained sentiment analysis model using tensorflow analyze positive/negative sentiments reviews github link developed demo web scraping pipeline using python selenium library dataset collection github link publications mahato s chaudhury r kar r mandal d saha s optimal integer order approximation fractional order human ear simulator ieee electrical engineering/electronics computer telecommunications information technology ecti-con- 2018 chiang rai thailand indexed scopus ieee xplore digital library'\n",
        "test = 'himanshu bag cid:131 +91 8295990851 himanshubag12 cid:239 linkedin.com/in/himanshu-bag github.com/0x1h0b education national institute technology kurukshetra july 2016 may 2020 b.tech electronics communications engineering kurukshetra haryana cgpa 7.4/10 experience qualcomm india feb 2021 present associate software engineer hyderabad telangana part machine learning ce team works various ml driven tools used internally qualcomm engineers worked rasa framework build custom ner model identify different domain specific entities intents log files worked various custom automation scripts/tools work top ml models give inferences help assist ce engineers projects resume classification python sklearn streamlit nltk github-link a multi class text classification model given resume data input classify among 20 available class training dataset taken kaggle hosted webapp using streamlit user upload resume deployed heroku created word vectors using tf-idf method used multinomial naive babyes classification 98 uracy text summarizer python sklearn streamlit nltk created android application using java android studio calculate ticket prices trips museums nyc processed user inputted information back-end app return subtotal price based tickets selected utilized layout editor create ui application order allow different scenes interact transaction management gui java eclipse javafx designed sample banking transaction system using java simulate common functions using bank ount used javafx create gui supports actions creating ount deposit withdraw list acounts etc implementedobject-orientedprogrammingpracticessuchasinheritancetocreatedifferenta ounttypesanddatabases technical skills programming language python c++ libraries/frameworks numpy matplotlib pandas scikit-learn tensorflow pytorch other linux git oop data structure knowledge data science nlp deep learning ann rnn lstm cnn attention mechanism be certifications natural language processing specialization deeplearning.ai coursera online certificate-link completed non-credit specialization consisting 4 different courses covering classification vector spaces probabilistic model sequence attention models deep learning specialization deeplearning.ai coursera online certificate-link completed non-credit specialization consisting 5 different courses covering neural network rnn lstm transformer models learned hyper-parameter tuning optimization techniques along dropout batchnorm techniques data science python datacamp online certificate-link while competing course/track got familiar various data science libraries like numpy pandas matplotlib scikit-learn learned various data visualization analysis machine learning techniques'\n",
        "test_enc = tokenizer.texts_to_sequences([test])\n",
        "max_seq_len = 1000\n",
        "test_full = pad_sequences(test_enc,padding=\"post\",maxlen=max_seq_len)\n",
        "test_full.shape"
      ],
      "metadata": {
        "colab": {
          "base_uri": "https://localhost:8080/"
        },
        "id": "i06bv8IidRl5",
        "outputId": "7311b755-1a55-4d27-b24a-4c4a07867ed7"
      },
      "id": "i06bv8IidRl5",
      "execution_count": 108,
      "outputs": [
        {
          "output_type": "execute_result",
          "data": {
            "text/plain": [
              "(1, 1000)"
            ]
          },
          "metadata": {},
          "execution_count": 108
        }
      ]
    },
    {
      "cell_type": "code",
      "source": [
        "ans = model1.predict(test_full)\n",
        "ans"
      ],
      "metadata": {
        "colab": {
          "base_uri": "https://localhost:8080/"
        },
        "id": "FaTNKJVtduKL",
        "outputId": "937761f7-14ad-4d39-d477-d512a2b79f3c"
      },
      "id": "FaTNKJVtduKL",
      "execution_count": 111,
      "outputs": [
        {
          "output_type": "execute_result",
          "data": {
            "text/plain": [
              "array([[0.02567941, 0.0198575 , 0.002699  , 0.02128001, 0.00704991,\n",
              "        0.06798635, 0.05848332, 0.17452052, 0.02220495, 0.01920332,\n",
              "        0.01225805, 0.00908657, 0.02729916, 0.18041974, 0.18062003,\n",
              "        0.0150943 , 0.00230846, 0.01421718, 0.00380358, 0.03070066,\n",
              "        0.04400661, 0.00846809, 0.00371367, 0.02084152, 0.02819807]],\n",
              "      dtype=float32)"
            ]
          },
          "metadata": {},
          "execution_count": 111
        }
      ]
    },
    {
      "cell_type": "code",
      "source": [
        "#label encoder\n",
        "import joblib\n",
        "a = np.argmax(ans)\n",
        "print(abs)\n",
        "label_encoder = joblib.load('/content/output_label_encoder.pkl')\n",
        "result = label_encoder.inverse_transform([a])\n",
        "result"
      ],
      "metadata": {
        "colab": {
          "base_uri": "https://localhost:8080/"
        },
        "id": "VgW0KNZ2fjmo",
        "outputId": "48446dc9-0826-4a39-d6e8-cd7982d1079c"
      },
      "id": "VgW0KNZ2fjmo",
      "execution_count": 112,
      "outputs": [
        {
          "output_type": "stream",
          "name": "stdout",
          "text": [
            "<built-in function abs>\n"
          ]
        },
        {
          "output_type": "stream",
          "name": "stderr",
          "text": [
            "/usr/local/lib/python3.7/dist-packages/sklearn/base.py:338: UserWarning: Trying to unpickle estimator LabelEncoder from version 0.24.1 when using version 1.0.2. This might lead to breaking code or invalid results. Use at your own risk. For more info please refer to:\n",
            "https://scikit-learn.org/stable/modules/model_persistence.html#security-maintainability-limitations\n",
            "  UserWarning,\n"
          ]
        },
        {
          "output_type": "execute_result",
          "data": {
            "text/plain": [
              "array(['Health and fitness'], dtype=object)"
            ]
          },
          "metadata": {},
          "execution_count": 112
        }
      ]
    },
    {
      "cell_type": "markdown",
      "source": [
        "### Trying with tfidf from sklearn"
      ],
      "metadata": {
        "id": "OLlxVTRH3gS7"
      },
      "id": "OLlxVTRH3gS7"
    },
    {
      "cell_type": "code",
      "source": [
        "from sklearn.feature_extraction.text import TfidfVectorizer\n",
        "\n",
        "resume_data = df['cleaned_resume'].values\n",
        "\n",
        "word_vectorizer = TfidfVectorizer(\n",
        "    sublinear_tf=True,\n",
        "    stop_words='english',\n",
        "    max_features=1500)\n",
        "word_vectorizer.fit(resume_data)\n",
        "word_features = word_vectorizer.transform(resume_data)\n"
      ],
      "metadata": {
        "id": "7LIrJ4NG3lVo"
      },
      "id": "7LIrJ4NG3lVo",
      "execution_count": 14,
      "outputs": []
    },
    {
      "cell_type": "code",
      "source": [
        "word_features.shape"
      ],
      "metadata": {
        "colab": {
          "base_uri": "https://localhost:8080/"
        },
        "id": "YTtVFvHK34NP",
        "outputId": "7b9bb186-7277-40a4-d34f-2c95c9ba9284"
      },
      "id": "YTtVFvHK34NP",
      "execution_count": 15,
      "outputs": [
        {
          "output_type": "execute_result",
          "data": {
            "text/plain": [
              "(962, 1500)"
            ]
          },
          "metadata": {},
          "execution_count": 15
        }
      ]
    },
    {
      "cell_type": "code",
      "source": [
        "x=word_features[0].toarray()\n",
        "print(len(x[0]),list(x))"
      ],
      "metadata": {
        "colab": {
          "base_uri": "https://localhost:8080/"
        },
        "id": "PALsu4WJ36pN",
        "outputId": "dfb4aca4-57e3-405b-c173-c7cef2bcde24"
      },
      "id": "PALsu4WJ36pN",
      "execution_count": 16,
      "outputs": [
        {
          "output_type": "stream",
          "name": "stdout",
          "text": [
            "1500 [array([0.        , 0.        , 0.        , ..., 0.03101576, 0.        ,\n",
            "       0.        ])]\n"
          ]
        }
      ]
    },
    {
      "cell_type": "code",
      "source": [
        "resume_target = pd.get_dummies(df['Category']).values"
      ],
      "metadata": {
        "id": "xrUBMD_-4SHU"
      },
      "id": "xrUBMD_-4SHU",
      "execution_count": 17,
      "outputs": []
    },
    {
      "cell_type": "code",
      "source": [
        "from sklearn.model_selection import train_test_split\n",
        "\n",
        "X_train,X_test,y_train,y_test = train_test_split(word_features,resume_target,random_state=0, test_size=0.2)\n",
        "print(X_train.shape,y_train.shape)\n",
        "print(X_test.shape,y_test.shape)"
      ],
      "metadata": {
        "colab": {
          "base_uri": "https://localhost:8080/"
        },
        "id": "gHt1IAZB3-LS",
        "outputId": "ffb74b3f-63a4-4812-bdcf-c606537aab0d"
      },
      "id": "gHt1IAZB3-LS",
      "execution_count": 18,
      "outputs": [
        {
          "output_type": "stream",
          "name": "stdout",
          "text": [
            "(769, 1500) (769, 25)\n",
            "(193, 1500) (193, 25)\n"
          ]
        }
      ]
    },
    {
      "cell_type": "code",
      "source": [
        "from tensorflow.keras.models import Sequential\n",
        "from tensorflow.keras.layers import Dense,Embedding,LSTM,SpatialDropout1D\n",
        "from tensorflow.keras.callbacks import EarlyStopping\n",
        "from tensorflow.keras.layers import Dropout"
      ],
      "metadata": {
        "id": "cOiAQuhB4beE"
      },
      "id": "cOiAQuhB4beE",
      "execution_count": 19,
      "outputs": []
    },
    {
      "cell_type": "code",
      "source": [
        "max_no_words = 7570\n",
        "embd_dim = 100\n",
        "max_seq_len = 1500"
      ],
      "metadata": {
        "id": "e0Na1xsc5iJa"
      },
      "id": "e0Na1xsc5iJa",
      "execution_count": 20,
      "outputs": []
    },
    {
      "cell_type": "code",
      "source": [
        "# model creation\n",
        "model = Sequential([\n",
        "    Embedding(max_no_words,embd_dim,input_length=max_seq_len),\n",
        "    LSTM(100,dropout=0.2,return_sequences=True),\n",
        "    LSTM(100,dropout=0.2),\n",
        "    Dense(128,activation=\"relu\"),\n",
        "    # Dropuout(0.2),\n",
        "    Dense(25,activation=\"softmax\")\n",
        "])\n",
        "model.compile(loss=\"categorical_crossentropy\",optimizer='adam',metrics=['accuracy'])\n",
        "print(model.summary())"
      ],
      "metadata": {
        "colab": {
          "base_uri": "https://localhost:8080/"
        },
        "id": "UhGYT3Hu4feU",
        "outputId": "b398921c-37f9-4c34-fadc-9fd486f77253"
      },
      "id": "UhGYT3Hu4feU",
      "execution_count": 21,
      "outputs": [
        {
          "output_type": "stream",
          "name": "stdout",
          "text": [
            "Model: \"sequential\"\n",
            "_________________________________________________________________\n",
            " Layer (type)                Output Shape              Param #   \n",
            "=================================================================\n",
            " embedding (Embedding)       (None, 1500, 100)         757000    \n",
            "                                                                 \n",
            " lstm (LSTM)                 (None, 1500, 100)         80400     \n",
            "                                                                 \n",
            " lstm_1 (LSTM)               (None, 100)               80400     \n",
            "                                                                 \n",
            " dense (Dense)               (None, 128)               12928     \n",
            "                                                                 \n",
            " dense_1 (Dense)             (None, 25)                3225      \n",
            "                                                                 \n",
            "=================================================================\n",
            "Total params: 933,953\n",
            "Trainable params: 933,953\n",
            "Non-trainable params: 0\n",
            "_________________________________________________________________\n",
            "None\n"
          ]
        }
      ]
    },
    {
      "cell_type": "code",
      "source": [
        "epochs = 50\n",
        "batch_size=128\n",
        "# print(x_train.shape,y_train.shape)\n",
        "history = model.fit(X_train,y_train,epochs=epochs,batch_size=batch_size,validation_data=(X_test,y_test))"
      ],
      "metadata": {
        "colab": {
          "base_uri": "https://localhost:8080/",
          "height": 407
        },
        "id": "-bRWNTZY4mcZ",
        "outputId": "500f9170-c12f-46ba-bbf7-7a5f94c66186"
      },
      "id": "-bRWNTZY4mcZ",
      "execution_count": 23,
      "outputs": [
        {
          "output_type": "error",
          "ename": "InvalidArgumentError",
          "evalue": "ignored",
          "traceback": [
            "\u001b[0;31m---------------------------------------------------------------------------\u001b[0m",
            "\u001b[0;31mInvalidArgumentError\u001b[0m                      Traceback (most recent call last)",
            "\u001b[0;32m<ipython-input-23-1a81ab5ef928>\u001b[0m in \u001b[0;36m<module>\u001b[0;34m()\u001b[0m\n\u001b[1;32m      2\u001b[0m \u001b[0mbatch_size\u001b[0m\u001b[0;34m=\u001b[0m\u001b[0;36m128\u001b[0m\u001b[0;34m\u001b[0m\u001b[0;34m\u001b[0m\u001b[0m\n\u001b[1;32m      3\u001b[0m \u001b[0;31m# print(x_train.shape,y_train.shape)\u001b[0m\u001b[0;34m\u001b[0m\u001b[0;34m\u001b[0m\u001b[0;34m\u001b[0m\u001b[0m\n\u001b[0;32m----> 4\u001b[0;31m \u001b[0mhistory\u001b[0m \u001b[0;34m=\u001b[0m \u001b[0mmodel\u001b[0m\u001b[0;34m.\u001b[0m\u001b[0mfit\u001b[0m\u001b[0;34m(\u001b[0m\u001b[0mX_train\u001b[0m\u001b[0;34m,\u001b[0m\u001b[0my_train\u001b[0m\u001b[0;34m,\u001b[0m\u001b[0mepochs\u001b[0m\u001b[0;34m=\u001b[0m\u001b[0mepochs\u001b[0m\u001b[0;34m,\u001b[0m\u001b[0mbatch_size\u001b[0m\u001b[0;34m=\u001b[0m\u001b[0mbatch_size\u001b[0m\u001b[0;34m,\u001b[0m\u001b[0mvalidation_data\u001b[0m\u001b[0;34m=\u001b[0m\u001b[0;34m(\u001b[0m\u001b[0mX_test\u001b[0m\u001b[0;34m,\u001b[0m\u001b[0my_test\u001b[0m\u001b[0;34m)\u001b[0m\u001b[0;34m)\u001b[0m\u001b[0;34m\u001b[0m\u001b[0;34m\u001b[0m\u001b[0m\n\u001b[0m",
            "\u001b[0;32m/usr/local/lib/python3.7/dist-packages/keras/utils/traceback_utils.py\u001b[0m in \u001b[0;36merror_handler\u001b[0;34m(*args, **kwargs)\u001b[0m\n\u001b[1;32m     65\u001b[0m     \u001b[0;32mexcept\u001b[0m \u001b[0mException\u001b[0m \u001b[0;32mas\u001b[0m \u001b[0me\u001b[0m\u001b[0;34m:\u001b[0m  \u001b[0;31m# pylint: disable=broad-except\u001b[0m\u001b[0;34m\u001b[0m\u001b[0;34m\u001b[0m\u001b[0m\n\u001b[1;32m     66\u001b[0m       \u001b[0mfiltered_tb\u001b[0m \u001b[0;34m=\u001b[0m \u001b[0m_process_traceback_frames\u001b[0m\u001b[0;34m(\u001b[0m\u001b[0me\u001b[0m\u001b[0;34m.\u001b[0m\u001b[0m__traceback__\u001b[0m\u001b[0;34m)\u001b[0m\u001b[0;34m\u001b[0m\u001b[0;34m\u001b[0m\u001b[0m\n\u001b[0;32m---> 67\u001b[0;31m       \u001b[0;32mraise\u001b[0m \u001b[0me\u001b[0m\u001b[0;34m.\u001b[0m\u001b[0mwith_traceback\u001b[0m\u001b[0;34m(\u001b[0m\u001b[0mfiltered_tb\u001b[0m\u001b[0;34m)\u001b[0m \u001b[0;32mfrom\u001b[0m \u001b[0;32mNone\u001b[0m\u001b[0;34m\u001b[0m\u001b[0;34m\u001b[0m\u001b[0m\n\u001b[0m\u001b[1;32m     68\u001b[0m     \u001b[0;32mfinally\u001b[0m\u001b[0;34m:\u001b[0m\u001b[0;34m\u001b[0m\u001b[0;34m\u001b[0m\u001b[0m\n\u001b[1;32m     69\u001b[0m       \u001b[0;32mdel\u001b[0m \u001b[0mfiltered_tb\u001b[0m\u001b[0;34m\u001b[0m\u001b[0;34m\u001b[0m\u001b[0m\n",
            "\u001b[0;32m/usr/local/lib/python3.7/dist-packages/tensorflow/python/framework/ops.py\u001b[0m in \u001b[0;36mraise_from_not_ok_status\u001b[0;34m(e, name)\u001b[0m\n\u001b[1;32m   7105\u001b[0m \u001b[0;32mdef\u001b[0m \u001b[0mraise_from_not_ok_status\u001b[0m\u001b[0;34m(\u001b[0m\u001b[0me\u001b[0m\u001b[0;34m,\u001b[0m \u001b[0mname\u001b[0m\u001b[0;34m)\u001b[0m\u001b[0;34m:\u001b[0m\u001b[0;34m\u001b[0m\u001b[0;34m\u001b[0m\u001b[0m\n\u001b[1;32m   7106\u001b[0m   \u001b[0me\u001b[0m\u001b[0;34m.\u001b[0m\u001b[0mmessage\u001b[0m \u001b[0;34m+=\u001b[0m \u001b[0;34m(\u001b[0m\u001b[0;34m\" name: \"\u001b[0m \u001b[0;34m+\u001b[0m \u001b[0mname\u001b[0m \u001b[0;32mif\u001b[0m \u001b[0mname\u001b[0m \u001b[0;32mis\u001b[0m \u001b[0;32mnot\u001b[0m \u001b[0;32mNone\u001b[0m \u001b[0;32melse\u001b[0m \u001b[0;34m\"\"\u001b[0m\u001b[0;34m)\u001b[0m\u001b[0;34m\u001b[0m\u001b[0;34m\u001b[0m\u001b[0m\n\u001b[0;32m-> 7107\u001b[0;31m   \u001b[0;32mraise\u001b[0m \u001b[0mcore\u001b[0m\u001b[0;34m.\u001b[0m\u001b[0m_status_to_exception\u001b[0m\u001b[0;34m(\u001b[0m\u001b[0me\u001b[0m\u001b[0;34m)\u001b[0m \u001b[0;32mfrom\u001b[0m \u001b[0;32mNone\u001b[0m  \u001b[0;31m# pylint: disable=protected-access\u001b[0m\u001b[0;34m\u001b[0m\u001b[0;34m\u001b[0m\u001b[0m\n\u001b[0m\u001b[1;32m   7108\u001b[0m \u001b[0;34m\u001b[0m\u001b[0m\n\u001b[1;32m   7109\u001b[0m \u001b[0;34m\u001b[0m\u001b[0m\n",
            "\u001b[0;31mInvalidArgumentError\u001b[0m: indices[1] = [0,1476] is out of order. Many sparse ops require sorted indices.\n    Use `tf.sparse.reorder` to create a correctly ordered copy.\n\n [Op:SerializeManySparse]"
          ]
        }
      ]
    },
    {
      "cell_type": "code",
      "source": [
        ""
      ],
      "metadata": {
        "id": "Ctop2bF14oc_"
      },
      "id": "Ctop2bF14oc_",
      "execution_count": null,
      "outputs": []
    },
    {
      "cell_type": "code",
      "source": [
        ""
      ],
      "metadata": {
        "id": "UwQkBDjR4ofw"
      },
      "id": "UwQkBDjR4ofw",
      "execution_count": null,
      "outputs": []
    },
    {
      "cell_type": "code",
      "source": [
        ""
      ],
      "metadata": {
        "id": "gjqco9SI4oib"
      },
      "id": "gjqco9SI4oib",
      "execution_count": null,
      "outputs": []
    },
    {
      "cell_type": "code",
      "source": [
        ""
      ],
      "metadata": {
        "id": "BnPxWOiV4olZ"
      },
      "id": "BnPxWOiV4olZ",
      "execution_count": null,
      "outputs": []
    }
  ],
  "metadata": {
    "accelerator": "GPU",
    "colab": {
      "name": "lstm_model.ipynb",
      "provenance": []
    },
    "kernelspec": {
      "display_name": "Python 3",
      "language": "python",
      "name": "python3"
    },
    "language_info": {
      "codemirror_mode": {
        "name": "ipython",
        "version": 3
      },
      "file_extension": ".py",
      "mimetype": "text/x-python",
      "name": "python",
      "nbconvert_exporter": "python",
      "pygments_lexer": "ipython3",
      "version": "3.8.8"
    }
  },
  "nbformat": 4,
  "nbformat_minor": 5
}