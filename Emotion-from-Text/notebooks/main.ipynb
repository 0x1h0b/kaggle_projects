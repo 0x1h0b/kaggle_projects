{
 "cells": [
  {
   "cell_type": "code",
   "execution_count": 1,
   "id": "28ac5849",
   "metadata": {
    "id": "28ac5849"
   },
   "outputs": [],
   "source": [
    "import pandas as pd\n",
    "import numpy as np\n",
    "import seaborn as sns"
   ]
  },
  {
   "cell_type": "markdown",
   "id": "e84b150a",
   "metadata": {
    "id": "e84b150a"
   },
   "source": [
    "### Structuring the data from raw text file\n",
    "\n",
    "#### train dataset"
   ]
  },
  {
   "cell_type": "code",
   "execution_count": 2,
   "id": "f50137cc",
   "metadata": {
    "id": "f50137cc"
   },
   "outputs": [],
   "source": [
    "train_text = []\n",
    "with open('./../dataset/train.txt') as fp:\n",
    "    train_text = fp.readlines()\n",
    "# /content/val.txt"
   ]
  },
  {
   "cell_type": "code",
   "execution_count": 3,
   "id": "f7b0cb21",
   "metadata": {
    "colab": {
     "base_uri": "https://localhost:8080/"
    },
    "id": "f7b0cb21",
    "outputId": "c6d495fb-c082-4aa5-9f51-70443e45b346"
   },
   "outputs": [
    {
     "name": "stdout",
     "output_type": "stream",
     "text": [
      "16000 i didnt feel humiliated;sadness\n",
      "\n"
     ]
    },
    {
     "data": {
      "text/plain": [
       "['i didnt feel humiliated', 'sadness\\n']"
      ]
     },
     "execution_count": 3,
     "metadata": {},
     "output_type": "execute_result"
    }
   ],
   "source": [
    "print(len(train_text),train_text[0])\n",
    "train_text[0].rsplit(';',maxsplit=1)"
   ]
  },
  {
   "cell_type": "code",
   "execution_count": 4,
   "id": "9b03e188",
   "metadata": {
    "colab": {
     "base_uri": "https://localhost:8080/"
    },
    "id": "9b03e188",
    "outputId": "71f7bb01-e4ea-4eb5-e2f4-de5a36c3f8b1"
   },
   "outputs": [
    {
     "name": "stdout",
     "output_type": "stream",
     "text": [
      "16000 [['i didnt feel humiliated', 'sadness'], ['i can go from feeling so hopeless to so damned hopeful just from being around someone who cares and is awake', 'sadness'], ['im grabbing a minute to post i feel greedy wrong', 'anger'], ['i am ever feeling nostalgic about the fireplace i will know that it is still on the property', 'love'], ['i am feeling grouchy', 'anger']]\n"
     ]
    }
   ],
   "source": [
    "train_data = []\n",
    "for dt in train_text:\n",
    "    sen,emt = dt.rsplit(';',maxsplit=1)\n",
    "    train_data.append([sen,emt.replace('\\n','')])\n",
    "print(len(train_data),train_data[:5])"
   ]
  },
  {
   "cell_type": "code",
   "execution_count": 5,
   "id": "cca761de",
   "metadata": {
    "colab": {
     "base_uri": "https://localhost:8080/",
     "height": 206
    },
    "id": "cca761de",
    "outputId": "5662b6aa-3712-44dc-db69-18a9446f4375"
   },
   "outputs": [
    {
     "data": {
      "text/html": [
       "<div>\n",
       "<style scoped>\n",
       "    .dataframe tbody tr th:only-of-type {\n",
       "        vertical-align: middle;\n",
       "    }\n",
       "\n",
       "    .dataframe tbody tr th {\n",
       "        vertical-align: top;\n",
       "    }\n",
       "\n",
       "    .dataframe thead th {\n",
       "        text-align: right;\n",
       "    }\n",
       "</style>\n",
       "<table border=\"1\" class=\"dataframe\">\n",
       "  <thead>\n",
       "    <tr style=\"text-align: right;\">\n",
       "      <th></th>\n",
       "      <th>sentence</th>\n",
       "      <th>emotion</th>\n",
       "    </tr>\n",
       "  </thead>\n",
       "  <tbody>\n",
       "    <tr>\n",
       "      <th>0</th>\n",
       "      <td>i didnt feel humiliated</td>\n",
       "      <td>sadness</td>\n",
       "    </tr>\n",
       "    <tr>\n",
       "      <th>1</th>\n",
       "      <td>i can go from feeling so hopeless to so damned...</td>\n",
       "      <td>sadness</td>\n",
       "    </tr>\n",
       "    <tr>\n",
       "      <th>2</th>\n",
       "      <td>im grabbing a minute to post i feel greedy wrong</td>\n",
       "      <td>anger</td>\n",
       "    </tr>\n",
       "    <tr>\n",
       "      <th>3</th>\n",
       "      <td>i am ever feeling nostalgic about the fireplac...</td>\n",
       "      <td>love</td>\n",
       "    </tr>\n",
       "    <tr>\n",
       "      <th>4</th>\n",
       "      <td>i am feeling grouchy</td>\n",
       "      <td>anger</td>\n",
       "    </tr>\n",
       "  </tbody>\n",
       "</table>\n",
       "</div>"
      ],
      "text/plain": [
       "                                            sentence  emotion\n",
       "0                            i didnt feel humiliated  sadness\n",
       "1  i can go from feeling so hopeless to so damned...  sadness\n",
       "2   im grabbing a minute to post i feel greedy wrong    anger\n",
       "3  i am ever feeling nostalgic about the fireplac...     love\n",
       "4                               i am feeling grouchy    anger"
      ]
     },
     "execution_count": 5,
     "metadata": {},
     "output_type": "execute_result"
    }
   ],
   "source": [
    "train_df = pd.DataFrame(train_data,columns=['sentence','emotion'])\n",
    "train_df.head()"
   ]
  },
  {
   "cell_type": "code",
   "execution_count": 6,
   "id": "b3308d34",
   "metadata": {
    "colab": {
     "base_uri": "https://localhost:8080/"
    },
    "id": "b3308d34",
    "outputId": "9898ced2-9e32-4a2c-febf-9e01a10620aa"
   },
   "outputs": [
    {
     "name": "stdout",
     "output_type": "stream",
     "text": [
      "<class 'pandas.core.frame.DataFrame'>\n",
      "RangeIndex: 16000 entries, 0 to 15999\n",
      "Data columns (total 2 columns):\n",
      " #   Column    Non-Null Count  Dtype \n",
      "---  ------    --------------  ----- \n",
      " 0   sentence  16000 non-null  object\n",
      " 1   emotion   16000 non-null  object\n",
      "dtypes: object(2)\n",
      "memory usage: 250.1+ KB\n"
     ]
    }
   ],
   "source": [
    "train_df.info()"
   ]
  },
  {
   "cell_type": "code",
   "execution_count": 7,
   "id": "ce645c58",
   "metadata": {
    "colab": {
     "base_uri": "https://localhost:8080/"
    },
    "id": "ce645c58",
    "outputId": "a2c799e8-efeb-4082-fac9-8664294978e4"
   },
   "outputs": [
    {
     "data": {
      "text/plain": [
       "joy         5362\n",
       "sadness     4666\n",
       "anger       2159\n",
       "fear        1937\n",
       "love        1304\n",
       "surprise     572\n",
       "Name: emotion, dtype: int64"
      ]
     },
     "execution_count": 7,
     "metadata": {},
     "output_type": "execute_result"
    }
   ],
   "source": [
    "train_df['emotion'].value_counts()"
   ]
  },
  {
   "cell_type": "code",
   "execution_count": 8,
   "id": "f7a4483a",
   "metadata": {
    "colab": {
     "base_uri": "https://localhost:8080/",
     "height": 297
    },
    "id": "f7a4483a",
    "outputId": "9d4ca60d-407a-4a6d-8ec4-6606c4e1bc00"
   },
   "outputs": [
    {
     "data": {
      "text/plain": [
       "<AxesSubplot:xlabel='emotion', ylabel='count'>"
      ]
     },
     "execution_count": 8,
     "metadata": {},
     "output_type": "execute_result"
    },
    {
     "data": {
      "image/png": "[encoded data removed]",
      "text/plain": [
       "<Figure size 432x288 with 1 Axes>"
      ]
     },
     "metadata": {
      "needs_background": "light"
     },
     "output_type": "display_data"
    }
   ],
   "source": [
    "sns.countplot(x='emotion',data=train_df)"
   ]
  },
  {
   "cell_type": "markdown",
   "id": "8167fe86",
   "metadata": {
    "id": "8167fe86"
   },
   "source": [
    "#### test dataset"
   ]
  },
  {
   "cell_type": "code",
   "execution_count": 9,
   "id": "066027dc",
   "metadata": {
    "colab": {
     "base_uri": "https://localhost:8080/",
     "height": 244
    },
    "id": "066027dc",
    "outputId": "d4996d6e-1bf8-4794-aa0a-f1638539453e"
   },
   "outputs": [
    {
     "name": "stdout",
     "output_type": "stream",
     "text": [
      "2000 [['im feeling rather rotten so im not very ambitious right now', 'sadness'], ['im updating my blog because i feel shitty', 'sadness'], ['i never make her separate from me because i don t ever want her to feel like i m ashamed with her', 'sadness'], ['i left with my bouquet of red and yellow tulips under my arm feeling slightly more optimistic than when i arrived', 'joy'], ['i was feeling a little vain when i did this one', 'sadness']]\n"
     ]
    },
    {
     "data": {
      "text/html": [
       "<div>\n",
       "<style scoped>\n",
       "    .dataframe tbody tr th:only-of-type {\n",
       "        vertical-align: middle;\n",
       "    }\n",
       "\n",
       "    .dataframe tbody tr th {\n",
       "        vertical-align: top;\n",
       "    }\n",
       "\n",
       "    .dataframe thead th {\n",
       "        text-align: right;\n",
       "    }\n",
       "</style>\n",
       "<table border=\"1\" class=\"dataframe\">\n",
       "  <thead>\n",
       "    <tr style=\"text-align: right;\">\n",
       "      <th></th>\n",
       "      <th>sentence</th>\n",
       "      <th>emotion</th>\n",
       "    </tr>\n",
       "  </thead>\n",
       "  <tbody>\n",
       "    <tr>\n",
       "      <th>0</th>\n",
       "      <td>im feeling rather rotten so im not very ambiti...</td>\n",
       "      <td>sadness</td>\n",
       "    </tr>\n",
       "    <tr>\n",
       "      <th>1</th>\n",
       "      <td>im updating my blog because i feel shitty</td>\n",
       "      <td>sadness</td>\n",
       "    </tr>\n",
       "    <tr>\n",
       "      <th>2</th>\n",
       "      <td>i never make her separate from me because i do...</td>\n",
       "      <td>sadness</td>\n",
       "    </tr>\n",
       "    <tr>\n",
       "      <th>3</th>\n",
       "      <td>i left with my bouquet of red and yellow tulip...</td>\n",
       "      <td>joy</td>\n",
       "    </tr>\n",
       "    <tr>\n",
       "      <th>4</th>\n",
       "      <td>i was feeling a little vain when i did this one</td>\n",
       "      <td>sadness</td>\n",
       "    </tr>\n",
       "  </tbody>\n",
       "</table>\n",
       "</div>"
      ],
      "text/plain": [
       "                                            sentence  emotion\n",
       "0  im feeling rather rotten so im not very ambiti...  sadness\n",
       "1          im updating my blog because i feel shitty  sadness\n",
       "2  i never make her separate from me because i do...  sadness\n",
       "3  i left with my bouquet of red and yellow tulip...      joy\n",
       "4    i was feeling a little vain when i did this one  sadness"
      ]
     },
     "execution_count": 9,
     "metadata": {},
     "output_type": "execute_result"
    }
   ],
   "source": [
    "test_data = []\n",
    "with open('./../dataset/test.txt') as fp:\n",
    "    temp = fp.readlines()\n",
    "    for t in temp:\n",
    "        sen,emt = t.rsplit(';',maxsplit=1)\n",
    "        test_data.append([sen,emt.replace('\\n','')])\n",
    "print(len(test_data),test_data[:5])\n",
    "test_df = pd.DataFrame(test_data,columns=['sentence','emotion'])\n",
    "test_df.head()"
   ]
  },
  {
   "cell_type": "code",
   "execution_count": 10,
   "id": "0bbfd8be",
   "metadata": {
    "colab": {
     "base_uri": "https://localhost:8080/"
    },
    "id": "0bbfd8be",
    "outputId": "a6d6bbf5-73d8-4533-d4e9-3f02c4721f78"
   },
   "outputs": [
    {
     "name": "stdout",
     "output_type": "stream",
     "text": [
      "<class 'pandas.core.frame.DataFrame'>\n",
      "RangeIndex: 2000 entries, 0 to 1999\n",
      "Data columns (total 2 columns):\n",
      " #   Column    Non-Null Count  Dtype \n",
      "---  ------    --------------  ----- \n",
      " 0   sentence  2000 non-null   object\n",
      " 1   emotion   2000 non-null   object\n",
      "dtypes: object(2)\n",
      "memory usage: 31.4+ KB\n"
     ]
    }
   ],
   "source": [
    "test_df.info()"
   ]
  },
  {
   "cell_type": "markdown",
   "id": "105b8ced",
   "metadata": {
    "id": "105b8ced"
   },
   "source": [
    "### Clean Text "
   ]
  },
  {
   "cell_type": "code",
   "execution_count": 11,
   "id": "fc1fefe3",
   "metadata": {
    "id": "fc1fefe3"
   },
   "outputs": [],
   "source": [
    "import nltk\n",
    "from nltk.tokenize import word_tokenize\n",
    "from nltk.corpus import stopwords\n",
    "import string\n",
    "import re"
   ]
  },
  {
   "cell_type": "code",
   "execution_count": 12,
   "id": "JNTyaNMLPY3Y",
   "metadata": {
    "colab": {
     "base_uri": "https://localhost:8080/"
    },
    "id": "JNTyaNMLPY3Y",
    "outputId": "559a688c-37ff-4e03-f1f9-7e20eee57b35"
   },
   "outputs": [
    {
     "name": "stderr",
     "output_type": "stream",
     "text": [
      "[nltk_data] Downloading package stopwords to\n",
      "[nltk_data]     /Users/himanshubag/nltk_data...\n",
      "[nltk_data]   Package stopwords is already up-to-date!\n",
      "[nltk_data] Downloading package punkt to\n",
      "[nltk_data]     /Users/himanshubag/nltk_data...\n",
      "[nltk_data]   Package punkt is already up-to-date!\n"
     ]
    },
    {
     "data": {
      "text/plain": [
       "True"
      ]
     },
     "execution_count": 12,
     "metadata": {},
     "output_type": "execute_result"
    }
   ],
   "source": [
    "nltk.download('stopwords')\n",
    "nltk.download('punkt')\n"
   ]
  },
  {
   "cell_type": "code",
   "execution_count": 13,
   "id": "e1b3d745",
   "metadata": {
    "colab": {
     "base_uri": "https://localhost:8080/"
    },
    "id": "e1b3d745",
    "outputId": "80e8fc59-6b59-428d-a398-cc5843255970"
   },
   "outputs": [
    {
     "name": "stdout",
     "output_type": "stream",
     "text": [
      "211\n"
     ]
    }
   ],
   "source": [
    "stopword_all =  list(set(stopwords.words('english'))) \n",
    "stopword_all.extend(list(string.punctuation))\n",
    "print(len(stopword_all))"
   ]
  },
  {
   "cell_type": "code",
   "execution_count": 14,
   "id": "c737db6e",
   "metadata": {
    "colab": {
     "base_uri": "https://localhost:8080/",
     "height": 35
    },
    "id": "c737db6e",
    "outputId": "bf7b8cc6-f160-4daf-cfe4-f36eaf7d6b10"
   },
   "outputs": [
    {
     "data": {
      "text/plain": [
       "'didnt feel humiliated'"
      ]
     },
     "execution_count": 14,
     "metadata": {},
     "output_type": "execute_result"
    }
   ],
   "source": [
    "def clean_text(text):\n",
    "    text = text.lower()\n",
    "    text= re.sub(r\"(#[\\d\\w\\.]+)\", '', text)\n",
    "    text = re.sub(r\"(@[\\d\\w\\.]+)\", '', text)\n",
    "    text = word_tokenize(text)\n",
    "    text = [word for word in text if word not in stopword_all]\n",
    "#     print(text)\n",
    "    text = ' '.join(text)\n",
    "    return text\n",
    "clean_text(train_df['sentence'].values[0])"
   ]
  },
  {
   "cell_type": "code",
   "execution_count": 15,
   "id": "3b0917d9",
   "metadata": {
    "id": "3b0917d9"
   },
   "outputs": [],
   "source": [
    "train_df['clean_sentence'] = train_df['sentence'].apply(lambda x: clean_text(x))"
   ]
  },
  {
   "cell_type": "code",
   "execution_count": 16,
   "id": "e7ec6ebf",
   "metadata": {
    "colab": {
     "base_uri": "https://localhost:8080/",
     "height": 206
    },
    "id": "e7ec6ebf",
    "outputId": "f3a84b3f-8d81-41a4-b3cd-2a3ef4d6c4b5"
   },
   "outputs": [
    {
     "data": {
      "text/html": [
       "<div>\n",
       "<style scoped>\n",
       "    .dataframe tbody tr th:only-of-type {\n",
       "        vertical-align: middle;\n",
       "    }\n",
       "\n",
       "    .dataframe tbody tr th {\n",
       "        vertical-align: top;\n",
       "    }\n",
       "\n",
       "    .dataframe thead th {\n",
       "        text-align: right;\n",
       "    }\n",
       "</style>\n",
       "<table border=\"1\" class=\"dataframe\">\n",
       "  <thead>\n",
       "    <tr style=\"text-align: right;\">\n",
       "      <th></th>\n",
       "      <th>sentence</th>\n",
       "      <th>emotion</th>\n",
       "      <th>clean_sentence</th>\n",
       "    </tr>\n",
       "  </thead>\n",
       "  <tbody>\n",
       "    <tr>\n",
       "      <th>0</th>\n",
       "      <td>i didnt feel humiliated</td>\n",
       "      <td>sadness</td>\n",
       "      <td>didnt feel humiliated</td>\n",
       "    </tr>\n",
       "    <tr>\n",
       "      <th>1</th>\n",
       "      <td>i can go from feeling so hopeless to so damned...</td>\n",
       "      <td>sadness</td>\n",
       "      <td>go feeling hopeless damned hopeful around some...</td>\n",
       "    </tr>\n",
       "    <tr>\n",
       "      <th>2</th>\n",
       "      <td>im grabbing a minute to post i feel greedy wrong</td>\n",
       "      <td>anger</td>\n",
       "      <td>im grabbing minute post feel greedy wrong</td>\n",
       "    </tr>\n",
       "    <tr>\n",
       "      <th>3</th>\n",
       "      <td>i am ever feeling nostalgic about the fireplac...</td>\n",
       "      <td>love</td>\n",
       "      <td>ever feeling nostalgic fireplace know still pr...</td>\n",
       "    </tr>\n",
       "    <tr>\n",
       "      <th>4</th>\n",
       "      <td>i am feeling grouchy</td>\n",
       "      <td>anger</td>\n",
       "      <td>feeling grouchy</td>\n",
       "    </tr>\n",
       "  </tbody>\n",
       "</table>\n",
       "</div>"
      ],
      "text/plain": [
       "                                            sentence  emotion  \\\n",
       "0                            i didnt feel humiliated  sadness   \n",
       "1  i can go from feeling so hopeless to so damned...  sadness   \n",
       "2   im grabbing a minute to post i feel greedy wrong    anger   \n",
       "3  i am ever feeling nostalgic about the fireplac...     love   \n",
       "4                               i am feeling grouchy    anger   \n",
       "\n",
       "                                      clean_sentence  \n",
       "0                              didnt feel humiliated  \n",
       "1  go feeling hopeless damned hopeful around some...  \n",
       "2          im grabbing minute post feel greedy wrong  \n",
       "3  ever feeling nostalgic fireplace know still pr...  \n",
       "4                                    feeling grouchy  "
      ]
     },
     "execution_count": 16,
     "metadata": {},
     "output_type": "execute_result"
    }
   ],
   "source": [
    "train_df.head()"
   ]
  },
  {
   "cell_type": "code",
   "execution_count": 17,
   "id": "6b5e5b7a",
   "metadata": {
    "colab": {
     "base_uri": "https://localhost:8080/",
     "height": 206
    },
    "id": "6b5e5b7a",
    "outputId": "4979e9c5-a4de-44f0-abf7-17c35fa2adf0"
   },
   "outputs": [
    {
     "data": {
      "text/html": [
       "<div>\n",
       "<style scoped>\n",
       "    .dataframe tbody tr th:only-of-type {\n",
       "        vertical-align: middle;\n",
       "    }\n",
       "\n",
       "    .dataframe tbody tr th {\n",
       "        vertical-align: top;\n",
       "    }\n",
       "\n",
       "    .dataframe thead th {\n",
       "        text-align: right;\n",
       "    }\n",
       "</style>\n",
       "<table border=\"1\" class=\"dataframe\">\n",
       "  <thead>\n",
       "    <tr style=\"text-align: right;\">\n",
       "      <th></th>\n",
       "      <th>sentence</th>\n",
       "      <th>emotion</th>\n",
       "      <th>clean_sentence</th>\n",
       "    </tr>\n",
       "  </thead>\n",
       "  <tbody>\n",
       "    <tr>\n",
       "      <th>0</th>\n",
       "      <td>im feeling rather rotten so im not very ambiti...</td>\n",
       "      <td>sadness</td>\n",
       "      <td>im feeling rather rotten im ambitious right</td>\n",
       "    </tr>\n",
       "    <tr>\n",
       "      <th>1</th>\n",
       "      <td>im updating my blog because i feel shitty</td>\n",
       "      <td>sadness</td>\n",
       "      <td>im updating blog feel shitty</td>\n",
       "    </tr>\n",
       "    <tr>\n",
       "      <th>2</th>\n",
       "      <td>i never make her separate from me because i do...</td>\n",
       "      <td>sadness</td>\n",
       "      <td>never make separate ever want feel like ashamed</td>\n",
       "    </tr>\n",
       "    <tr>\n",
       "      <th>3</th>\n",
       "      <td>i left with my bouquet of red and yellow tulip...</td>\n",
       "      <td>joy</td>\n",
       "      <td>left bouquet red yellow tulips arm feeling sli...</td>\n",
       "    </tr>\n",
       "    <tr>\n",
       "      <th>4</th>\n",
       "      <td>i was feeling a little vain when i did this one</td>\n",
       "      <td>sadness</td>\n",
       "      <td>feeling little vain one</td>\n",
       "    </tr>\n",
       "  </tbody>\n",
       "</table>\n",
       "</div>"
      ],
      "text/plain": [
       "                                            sentence  emotion  \\\n",
       "0  im feeling rather rotten so im not very ambiti...  sadness   \n",
       "1          im updating my blog because i feel shitty  sadness   \n",
       "2  i never make her separate from me because i do...  sadness   \n",
       "3  i left with my bouquet of red and yellow tulip...      joy   \n",
       "4    i was feeling a little vain when i did this one  sadness   \n",
       "\n",
       "                                      clean_sentence  \n",
       "0        im feeling rather rotten im ambitious right  \n",
       "1                       im updating blog feel shitty  \n",
       "2    never make separate ever want feel like ashamed  \n",
       "3  left bouquet red yellow tulips arm feeling sli...  \n",
       "4                            feeling little vain one  "
      ]
     },
     "execution_count": 17,
     "metadata": {},
     "output_type": "execute_result"
    }
   ],
   "source": [
    "test_df['clean_sentence'] = test_df['sentence'].apply(lambda x: clean_text(x))\n",
    "test_df.head()"
   ]
  },
  {
   "cell_type": "markdown",
   "id": "88fb1c81",
   "metadata": {
    "id": "88fb1c81"
   },
   "source": [
    "### preprocess text ( tokenize )"
   ]
  },
  {
   "cell_type": "code",
   "execution_count": 18,
   "id": "20e22935",
   "metadata": {
    "colab": {
     "base_uri": "https://localhost:8080/"
    },
    "id": "20e22935",
    "outputId": "73d9b4fc-5689-49f7-cc19-34e0e4052dfe"
   },
   "outputs": [
    {
     "name": "stdout",
     "output_type": "stream",
     "text": [
      "18000 <class 'list'>\n"
     ]
    }
   ],
   "source": [
    "all_sen = []\n",
    "all_sen.extend(train_df['clean_sentence'].values)\n",
    "all_sen.extend(test_df['clean_sentence'].values)\n",
    "\n",
    "print(len(all_sen),type(all_sen))"
   ]
  },
  {
   "cell_type": "code",
   "execution_count": 19,
   "id": "ea3d2c62",
   "metadata": {
    "id": "ea3d2c62"
   },
   "outputs": [],
   "source": [
    "from tensorflow.keras.preprocessing.text import Tokenizer\n",
    "from tensorflow.keras.preprocessing.sequence import pad_sequences"
   ]
  },
  {
   "cell_type": "code",
   "execution_count": 20,
   "id": "c005863e",
   "metadata": {
    "id": "c005863e"
   },
   "outputs": [],
   "source": [
    "tokenizer = Tokenizer()\n",
    "tokenizer.fit_on_texts(all_sen)"
   ]
  },
  {
   "cell_type": "code",
   "execution_count": 21,
   "id": "8101ec81",
   "metadata": {
    "colab": {
     "base_uri": "https://localhost:8080/"
    },
    "id": "8101ec81",
    "outputId": "09841b95-8ed2-4481-8c36-ab4dd0bb021b"
   },
   "outputs": [
    {
     "name": "stdout",
     "output_type": "stream",
     "text": [
      "The document count 18000\n",
      "16033 16033\n"
     ]
    }
   ],
   "source": [
    "print(\"The document count\",tokenizer.document_count)\n",
    "print(len(tokenizer.word_index),len(tokenizer.word_counts))\n",
    "# print(\"The count of words\",tokenizer.word_counts)"
   ]
  },
  {
   "cell_type": "code",
   "execution_count": 22,
   "id": "58feba27",
   "metadata": {},
   "outputs": [
    {
     "data": {
      "text/plain": [
       "['./../model/tokenizer.pkl']"
      ]
     },
     "execution_count": 22,
     "metadata": {},
     "output_type": "execute_result"
    }
   ],
   "source": [
    "import joblib\n",
    "joblib.dump(tokenizer,'./../model/tokenizer.pkl')"
   ]
  },
  {
   "cell_type": "code",
   "execution_count": null,
   "id": "ee631f8d",
   "metadata": {
    "id": "ee631f8d"
   },
   "outputs": [],
   "source": [
    "train_seq = tokenizer.texts_to_sequences(train_df['clean_sentence'].values)\n",
    "test_seq = tokenizer.texts_to_sequences(test_df['clean_sentence'].values)"
   ]
  },
  {
   "cell_type": "code",
   "execution_count": null,
   "id": "a269c9cf",
   "metadata": {
    "id": "a269c9cf"
   },
   "outputs": [],
   "source": [
    "embd_dim = 100\n",
    "max_seq_len = 500\n",
    "vocab_size = len(tokenizer.word_index)+1"
   ]
  },
  {
   "cell_type": "code",
   "execution_count": null,
   "id": "6c2aedb1",
   "metadata": {
    "id": "6c2aedb1"
   },
   "outputs": [],
   "source": [
    "train_seq_x_pad = pad_sequences(train_seq,maxlen=max_seq_len)\n",
    "test_seq_x_pad = pad_sequences(test_seq,maxlen=max_seq_len)"
   ]
  },
  {
   "cell_type": "code",
   "execution_count": null,
   "id": "456466d0",
   "metadata": {
    "colab": {
     "base_uri": "https://localhost:8080/"
    },
    "id": "456466d0",
    "outputId": "aacbe961-dba2-454a-b6a3-7339248030ce"
   },
   "outputs": [
    {
     "data": {
      "text/plain": [
       "array([[   0,    0,    0, ...,   50,    1,  527],\n",
       "       [   0,    0,    0, ...,   54, 1460, 1214],\n",
       "       [   0,    0,    0, ...,    1,  349,  303],\n",
       "       ...,\n",
       "       [   0,    0,    0, ...,  235,   33, 1299],\n",
       "       [   0,    0,    0, ..., 1089,    4,  224],\n",
       "       [   0,    0,    0, ...,    1,  185, 3714]], dtype=int32)"
      ]
     },
     "execution_count": 30,
     "metadata": {},
     "output_type": "execute_result"
    }
   ],
   "source": [
    "train_seq_x_pad"
   ]
  },
  {
   "cell_type": "code",
   "execution_count": null,
   "id": "27c92373",
   "metadata": {
    "colab": {
     "base_uri": "https://localhost:8080/"
    },
    "id": "27c92373",
    "outputId": "ed37e002-b8ab-4bec-f9d4-957211a85a69"
   },
   "outputs": [
    {
     "data": {
      "text/plain": [
       "array([[   0,    0,    0, ...,    4, 4543,   37],\n",
       "       [   0,    0,    0, ...,  139,    1,  347],\n",
       "       [   0,    0,    0, ...,    1,    3,  288],\n",
       "       ...,\n",
       "       [   0,    0,    0, ...,  189,    2, 3152],\n",
       "       [   0,    0,    0, ...,  110,  827, 2371],\n",
       "       [   0,    0,    0, ...,  194,  194, 1692]], dtype=int32)"
      ]
     },
     "execution_count": 31,
     "metadata": {},
     "output_type": "execute_result"
    }
   ],
   "source": [
    "test_seq_x_pad"
   ]
  },
  {
   "cell_type": "markdown",
   "id": "bd38b616",
   "metadata": {
    "id": "bd38b616"
   },
   "source": [
    "#### label encode / output"
   ]
  },
  {
   "cell_type": "code",
   "execution_count": 23,
   "id": "b87e1baf",
   "metadata": {
    "id": "b87e1baf"
   },
   "outputs": [],
   "source": [
    "from sklearn.preprocessing import LabelEncoder\n",
    "label_encode = LabelEncoder()\n",
    "\n",
    "train_df['enc_emotion'] = label_encode.fit_transform(train_df['emotion'])\n",
    "test_df['enc_emotion'] = label_encode.transform(test_df['emotion'])\n"
   ]
  },
  {
   "cell_type": "code",
   "execution_count": 24,
   "id": "c155cc56",
   "metadata": {
    "colab": {
     "base_uri": "https://localhost:8080/"
    },
    "id": "c155cc56",
    "outputId": "b45c0a43-3a2f-4145-fbb3-8edef902169b"
   },
   "outputs": [
    {
     "data": {
      "text/plain": [
       "6"
      ]
     },
     "execution_count": 24,
     "metadata": {},
     "output_type": "execute_result"
    }
   ],
   "source": [
    "num_class = len(label_encode.classes_)\n",
    "num_class"
   ]
  },
  {
   "cell_type": "code",
   "execution_count": 25,
   "id": "03bcef45",
   "metadata": {},
   "outputs": [
    {
     "data": {
      "text/plain": [
       "['./../model/label_encoder.pkl']"
      ]
     },
     "execution_count": 25,
     "metadata": {},
     "output_type": "execute_result"
    }
   ],
   "source": [
    "joblib.dump(label_encode,'./../model/label_encoder.pkl')"
   ]
  },
  {
   "cell_type": "code",
   "execution_count": null,
   "id": "a3ed630b",
   "metadata": {
    "colab": {
     "base_uri": "https://localhost:8080/",
     "height": 206
    },
    "id": "a3ed630b",
    "outputId": "1a8d5e4b-f812-4c70-e7b1-23fdfaf44254"
   },
   "outputs": [
    {
     "data": {
      "text/html": [
       "\n",
       "  <div id=\"df-b6b64680-f36d-41db-82cf-4209db152166\">\n",
       "    <div class=\"colab-df-container\">\n",
       "      <div>\n",
       "<style scoped>\n",
       "    .dataframe tbody tr th:only-of-type {\n",
       "        vertical-align: middle;\n",
       "    }\n",
       "\n",
       "    .dataframe tbody tr th {\n",
       "        vertical-align: top;\n",
       "    }\n",
       "\n",
       "    .dataframe thead th {\n",
       "        text-align: right;\n",
       "    }\n",
       "</style>\n",
       "<table border=\"1\" class=\"dataframe\">\n",
       "  <thead>\n",
       "    <tr style=\"text-align: right;\">\n",
       "      <th></th>\n",
       "      <th>sentence</th>\n",
       "      <th>emotion</th>\n",
       "      <th>clean_sentence</th>\n",
       "      <th>enc_emotion</th>\n",
       "    </tr>\n",
       "  </thead>\n",
       "  <tbody>\n",
       "    <tr>\n",
       "      <th>0</th>\n",
       "      <td>i didnt feel humiliated</td>\n",
       "      <td>sadness</td>\n",
       "      <td>didnt feel humiliated</td>\n",
       "      <td>4</td>\n",
       "    </tr>\n",
       "    <tr>\n",
       "      <th>1</th>\n",
       "      <td>i can go from feeling so hopeless to so damned...</td>\n",
       "      <td>sadness</td>\n",
       "      <td>go feeling hopeless damned hopeful around some...</td>\n",
       "      <td>4</td>\n",
       "    </tr>\n",
       "    <tr>\n",
       "      <th>2</th>\n",
       "      <td>im grabbing a minute to post i feel greedy wrong</td>\n",
       "      <td>anger</td>\n",
       "      <td>im grabbing minute post feel greedy wrong</td>\n",
       "      <td>0</td>\n",
       "    </tr>\n",
       "    <tr>\n",
       "      <th>3</th>\n",
       "      <td>i am ever feeling nostalgic about the fireplac...</td>\n",
       "      <td>love</td>\n",
       "      <td>ever feeling nostalgic fireplace know still pr...</td>\n",
       "      <td>3</td>\n",
       "    </tr>\n",
       "    <tr>\n",
       "      <th>4</th>\n",
       "      <td>i am feeling grouchy</td>\n",
       "      <td>anger</td>\n",
       "      <td>feeling grouchy</td>\n",
       "      <td>0</td>\n",
       "    </tr>\n",
       "  </tbody>\n",
       "</table>\n",
       "</div>\n",
       "      <button class=\"colab-df-convert\" onclick=\"convertToInteractive('df-b6b64680-f36d-41db-82cf-4209db152166')\"\n",
       "              title=\"Convert this dataframe to an interactive table.\"\n",
       "              style=\"display:none;\">\n",
       "        \n",
       "  <svg xmlns=\"http://www.w3.org/2000/svg\" height=\"24px\"viewBox=\"0 0 24 24\"\n",
       "       width=\"24px\">\n",
       "    <path d=\"M0 0h24v24H0V0z\" fill=\"none\"/>\n",
       "    <path d=\"M18.56 5.44l.94 2.06.94-2.06 2.06-.94-2.06-.94-.94-2.06-.94 2.06-2.06.94zm-11 1L8.5 8.5l.94-2.06 2.06-.94-2.06-.94L8.5 2.5l-.94 2.06-2.06.94zm10 10l.94 2.06.94-2.06 2.06-.94-2.06-.94-.94-2.06-.94 2.06-2.06.94z\"/><path d=\"M17.41 7.96l-1.37-1.37c-.4-.4-.92-.59-1.43-.59-.52 0-1.04.2-1.43.59L10.3 9.45l-7.72 7.72c-.78.78-.78 2.05 0 2.83L4 21.41c.39.39.9.59 1.41.59.51 0 1.02-.2 1.41-.59l7.78-7.78 2.81-2.81c.8-.78.8-2.07 0-2.86zM5.41 20L4 18.59l7.72-7.72 1.47 1.35L5.41 20z\"/>\n",
       "  </svg>\n",
       "      </button>\n",
       "      \n",
       "  <style>\n",
       "    .colab-df-container {\n",
       "      display:flex;\n",
       "      flex-wrap:wrap;\n",
       "      gap: 12px;\n",
       "    }\n",
       "\n",
       "    .colab-df-convert {\n",
       "      background-color: #E8F0FE;\n",
       "      border: none;\n",
       "      border-radius: 50%;\n",
       "      cursor: pointer;\n",
       "      display: none;\n",
       "      fill: #1967D2;\n",
       "      height: 32px;\n",
       "      padding: 0 0 0 0;\n",
       "      width: 32px;\n",
       "    }\n",
       "\n",
       "    .colab-df-convert:hover {\n",
       "      background-color: #E2EBFA;\n",
       "      box-shadow: 0px 1px 2px rgba(60, 64, 67, 0.3), 0px 1px 3px 1px rgba(60, 64, 67, 0.15);\n",
       "      fill: #174EA6;\n",
       "    }\n",
       "\n",
       "    [theme=dark] .colab-df-convert {\n",
       "      background-color: #3B4455;\n",
       "      fill: #D2E3FC;\n",
       "    }\n",
       "\n",
       "    [theme=dark] .colab-df-convert:hover {\n",
       "      background-color: #434B5C;\n",
       "      box-shadow: 0px 1px 3px 1px rgba(0, 0, 0, 0.15);\n",
       "      filter: drop-shadow(0px 1px 2px rgba(0, 0, 0, 0.3));\n",
       "      fill: #FFFFFF;\n",
       "    }\n",
       "  </style>\n",
       "\n",
       "      <script>\n",
       "        const buttonEl =\n",
       "          document.querySelector('#df-b6b64680-f36d-41db-82cf-4209db152166 button.colab-df-convert');\n",
       "        buttonEl.style.display =\n",
       "          google.colab.kernel.accessAllowed ? 'block' : 'none';\n",
       "\n",
       "        async function convertToInteractive(key) {\n",
       "          const element = document.querySelector('#df-b6b64680-f36d-41db-82cf-4209db152166');\n",
       "          const dataTable =\n",
       "            await google.colab.kernel.invokeFunction('convertToInteractive',\n",
       "                                                     [key], {});\n",
       "          if (!dataTable) return;\n",
       "\n",
       "          const docLinkHtml = 'Like what you see? Visit the ' +\n",
       "            '<a target=\"_blank\" href=https://colab.research.google.com/notebooks/data_table.ipynb>data table notebook</a>'\n",
       "            + ' to learn more about interactive tables.';\n",
       "          element.innerHTML = '';\n",
       "          dataTable['output_type'] = 'display_data';\n",
       "          await google.colab.output.renderOutput(dataTable, element);\n",
       "          const docLink = document.createElement('div');\n",
       "          docLink.innerHTML = docLinkHtml;\n",
       "          element.appendChild(docLink);\n",
       "        }\n",
       "      </script>\n",
       "    </div>\n",
       "  </div>\n",
       "  "
      ],
      "text/plain": [
       "                                            sentence  ... enc_emotion\n",
       "0                            i didnt feel humiliated  ...           4\n",
       "1  i can go from feeling so hopeless to so damned...  ...           4\n",
       "2   im grabbing a minute to post i feel greedy wrong  ...           0\n",
       "3  i am ever feeling nostalgic about the fireplac...  ...           3\n",
       "4                               i am feeling grouchy  ...           0\n",
       "\n",
       "[5 rows x 4 columns]"
      ]
     },
     "execution_count": 34,
     "metadata": {},
     "output_type": "execute_result"
    }
   ],
   "source": [
    "train_df.head()"
   ]
  },
  {
   "cell_type": "code",
   "execution_count": null,
   "id": "f8e16644",
   "metadata": {
    "colab": {
     "base_uri": "https://localhost:8080/",
     "height": 206
    },
    "id": "f8e16644",
    "outputId": "45fcec60-5005-47be-99ab-de3f66002ef6"
   },
   "outputs": [
    {
     "data": {
      "text/html": [
       "\n",
       "  <div id=\"df-c9f7025b-487c-45ce-9bcd-6dffdc38a5f4\">\n",
       "    <div class=\"colab-df-container\">\n",
       "      <div>\n",
       "<style scoped>\n",
       "    .dataframe tbody tr th:only-of-type {\n",
       "        vertical-align: middle;\n",
       "    }\n",
       "\n",
       "    .dataframe tbody tr th {\n",
       "        vertical-align: top;\n",
       "    }\n",
       "\n",
       "    .dataframe thead th {\n",
       "        text-align: right;\n",
       "    }\n",
       "</style>\n",
       "<table border=\"1\" class=\"dataframe\">\n",
       "  <thead>\n",
       "    <tr style=\"text-align: right;\">\n",
       "      <th></th>\n",
       "      <th>sentence</th>\n",
       "      <th>emotion</th>\n",
       "      <th>clean_sentence</th>\n",
       "      <th>enc_emotion</th>\n",
       "    </tr>\n",
       "  </thead>\n",
       "  <tbody>\n",
       "    <tr>\n",
       "      <th>0</th>\n",
       "      <td>im feeling rather rotten so im not very ambiti...</td>\n",
       "      <td>sadness</td>\n",
       "      <td>im feeling rather rotten im ambitious right</td>\n",
       "      <td>4</td>\n",
       "    </tr>\n",
       "    <tr>\n",
       "      <th>1</th>\n",
       "      <td>im updating my blog because i feel shitty</td>\n",
       "      <td>sadness</td>\n",
       "      <td>im updating blog feel shitty</td>\n",
       "      <td>4</td>\n",
       "    </tr>\n",
       "    <tr>\n",
       "      <th>2</th>\n",
       "      <td>i never make her separate from me because i do...</td>\n",
       "      <td>sadness</td>\n",
       "      <td>never make separate ever want feel like ashamed</td>\n",
       "      <td>4</td>\n",
       "    </tr>\n",
       "    <tr>\n",
       "      <th>3</th>\n",
       "      <td>i left with my bouquet of red and yellow tulip...</td>\n",
       "      <td>joy</td>\n",
       "      <td>left bouquet red yellow tulips arm feeling sli...</td>\n",
       "      <td>2</td>\n",
       "    </tr>\n",
       "    <tr>\n",
       "      <th>4</th>\n",
       "      <td>i was feeling a little vain when i did this one</td>\n",
       "      <td>sadness</td>\n",
       "      <td>feeling little vain one</td>\n",
       "      <td>4</td>\n",
       "    </tr>\n",
       "  </tbody>\n",
       "</table>\n",
       "</div>\n",
       "      <button class=\"colab-df-convert\" onclick=\"convertToInteractive('df-c9f7025b-487c-45ce-9bcd-6dffdc38a5f4')\"\n",
       "              title=\"Convert this dataframe to an interactive table.\"\n",
       "              style=\"display:none;\">\n",
       "        \n",
       "  <svg xmlns=\"http://www.w3.org/2000/svg\" height=\"24px\"viewBox=\"0 0 24 24\"\n",
       "       width=\"24px\">\n",
       "    <path d=\"M0 0h24v24H0V0z\" fill=\"none\"/>\n",
       "    <path d=\"M18.56 5.44l.94 2.06.94-2.06 2.06-.94-2.06-.94-.94-2.06-.94 2.06-2.06.94zm-11 1L8.5 8.5l.94-2.06 2.06-.94-2.06-.94L8.5 2.5l-.94 2.06-2.06.94zm10 10l.94 2.06.94-2.06 2.06-.94-2.06-.94-.94-2.06-.94 2.06-2.06.94z\"/><path d=\"M17.41 7.96l-1.37-1.37c-.4-.4-.92-.59-1.43-.59-.52 0-1.04.2-1.43.59L10.3 9.45l-7.72 7.72c-.78.78-.78 2.05 0 2.83L4 21.41c.39.39.9.59 1.41.59.51 0 1.02-.2 1.41-.59l7.78-7.78 2.81-2.81c.8-.78.8-2.07 0-2.86zM5.41 20L4 18.59l7.72-7.72 1.47 1.35L5.41 20z\"/>\n",
       "  </svg>\n",
       "      </button>\n",
       "      \n",
       "  <style>\n",
       "    .colab-df-container {\n",
       "      display:flex;\n",
       "      flex-wrap:wrap;\n",
       "      gap: 12px;\n",
       "    }\n",
       "\n",
       "    .colab-df-convert {\n",
       "      background-color: #E8F0FE;\n",
       "      border: none;\n",
       "      border-radius: 50%;\n",
       "      cursor: pointer;\n",
       "      display: none;\n",
       "      fill: #1967D2;\n",
       "      height: 32px;\n",
       "      padding: 0 0 0 0;\n",
       "      width: 32px;\n",
       "    }\n",
       "\n",
       "    .colab-df-convert:hover {\n",
       "      background-color: #E2EBFA;\n",
       "      box-shadow: 0px 1px 2px rgba(60, 64, 67, 0.3), 0px 1px 3px 1px rgba(60, 64, 67, 0.15);\n",
       "      fill: #174EA6;\n",
       "    }\n",
       "\n",
       "    [theme=dark] .colab-df-convert {\n",
       "      background-color: #3B4455;\n",
       "      fill: #D2E3FC;\n",
       "    }\n",
       "\n",
       "    [theme=dark] .colab-df-convert:hover {\n",
       "      background-color: #434B5C;\n",
       "      box-shadow: 0px 1px 3px 1px rgba(0, 0, 0, 0.15);\n",
       "      filter: drop-shadow(0px 1px 2px rgba(0, 0, 0, 0.3));\n",
       "      fill: #FFFFFF;\n",
       "    }\n",
       "  </style>\n",
       "\n",
       "      <script>\n",
       "        const buttonEl =\n",
       "          document.querySelector('#df-c9f7025b-487c-45ce-9bcd-6dffdc38a5f4 button.colab-df-convert');\n",
       "        buttonEl.style.display =\n",
       "          google.colab.kernel.accessAllowed ? 'block' : 'none';\n",
       "\n",
       "        async function convertToInteractive(key) {\n",
       "          const element = document.querySelector('#df-c9f7025b-487c-45ce-9bcd-6dffdc38a5f4');\n",
       "          const dataTable =\n",
       "            await google.colab.kernel.invokeFunction('convertToInteractive',\n",
       "                                                     [key], {});\n",
       "          if (!dataTable) return;\n",
       "\n",
       "          const docLinkHtml = 'Like what you see? Visit the ' +\n",
       "            '<a target=\"_blank\" href=https://colab.research.google.com/notebooks/data_table.ipynb>data table notebook</a>'\n",
       "            + ' to learn more about interactive tables.';\n",
       "          element.innerHTML = '';\n",
       "          dataTable['output_type'] = 'display_data';\n",
       "          await google.colab.output.renderOutput(dataTable, element);\n",
       "          const docLink = document.createElement('div');\n",
       "          docLink.innerHTML = docLinkHtml;\n",
       "          element.appendChild(docLink);\n",
       "        }\n",
       "      </script>\n",
       "    </div>\n",
       "  </div>\n",
       "  "
      ],
      "text/plain": [
       "                                            sentence  ... enc_emotion\n",
       "0  im feeling rather rotten so im not very ambiti...  ...           4\n",
       "1          im updating my blog because i feel shitty  ...           4\n",
       "2  i never make her separate from me because i do...  ...           4\n",
       "3  i left with my bouquet of red and yellow tulip...  ...           2\n",
       "4    i was feeling a little vain when i did this one  ...           4\n",
       "\n",
       "[5 rows x 4 columns]"
      ]
     },
     "execution_count": 35,
     "metadata": {},
     "output_type": "execute_result"
    }
   ],
   "source": [
    "test_df.head()"
   ]
  },
  {
   "cell_type": "code",
   "execution_count": null,
   "id": "6de99e3d",
   "metadata": {
    "colab": {
     "base_uri": "https://localhost:8080/"
    },
    "id": "6de99e3d",
    "outputId": "11b1b69f-6ede-420e-f836-8100f8d4dffd"
   },
   "outputs": [
    {
     "name": "stdout",
     "output_type": "stream",
     "text": [
      "(16000, 500) (16000, 6)\n",
      "(2000, 500) (2000, 6)\n"
     ]
    }
   ],
   "source": [
    "train_y = pd.get_dummies(train_df['enc_emotion']).values\n",
    "test_y = pd.get_dummies(test_df['enc_emotion']).values\n",
    "\n",
    "print(train_seq_x_pad.shape,train_y.shape)\n",
    "print(test_seq_x_pad.shape,test_y.shape)"
   ]
  },
  {
   "cell_type": "code",
   "execution_count": null,
   "id": "8c867917",
   "metadata": {
    "colab": {
     "base_uri": "https://localhost:8080/"
    },
    "id": "8c867917",
    "outputId": "2a021559-bd1d-4377-b3fa-91091b653d55"
   },
   "outputs": [
    {
     "data": {
      "text/plain": [
       "array([[0, 0, 0, 0, 1, 0],\n",
       "       [0, 0, 0, 0, 1, 0],\n",
       "       [1, 0, 0, 0, 0, 0],\n",
       "       ...,\n",
       "       [0, 0, 1, 0, 0, 0],\n",
       "       [1, 0, 0, 0, 0, 0],\n",
       "       [0, 0, 0, 0, 1, 0]], dtype=uint8)"
      ]
     },
     "execution_count": 37,
     "metadata": {},
     "output_type": "execute_result"
    }
   ],
   "source": [
    "(train_y)"
   ]
  },
  {
   "cell_type": "markdown",
   "id": "4cb416c7",
   "metadata": {
    "id": "4cb416c7"
   },
   "source": [
    "#### use pretrained embedding or not  ?\n",
    " - not using for now"
   ]
  },
  {
   "cell_type": "markdown",
   "id": "f6c26162",
   "metadata": {
    "id": "f6c26162"
   },
   "source": [
    "### Model Training "
   ]
  },
  {
   "cell_type": "code",
   "execution_count": null,
   "id": "084c1576",
   "metadata": {
    "id": "084c1576"
   },
   "outputs": [],
   "source": [
    "from tensorflow.keras.models import Sequential\n",
    "from tensorflow.keras.layers import Embedding,LSTM,Dense"
   ]
  },
  {
   "cell_type": "code",
   "execution_count": null,
   "id": "42005375",
   "metadata": {
    "colab": {
     "base_uri": "https://localhost:8080/"
    },
    "id": "42005375",
    "outputId": "4e07f488-e67d-4c72-b797-e43ed44adb4c"
   },
   "outputs": [
    {
     "name": "stdout",
     "output_type": "stream",
     "text": [
      "WARNING:tensorflow:Layer lstm_3 will not use cuDNN kernels since it doesn't meet the criteria. It will use a generic GPU kernel as fallback when running on GPU.\n",
      "Model: \"sequential_3\"\n",
      "_________________________________________________________________\n",
      " Layer (type)                Output Shape              Param #   \n",
      "=================================================================\n",
      " embedding_3 (Embedding)     (None, 500, 100)          1603400   \n",
      "                                                                 \n",
      " lstm_3 (LSTM)               (None, 100)               80400     \n",
      "                                                                 \n",
      " dense_4 (Dense)             (None, 128)               12928     \n",
      "                                                                 \n",
      " dense_5 (Dense)             (None, 6)                 774       \n",
      "                                                                 \n",
      "=================================================================\n",
      "Total params: 1,697,502\n",
      "Trainable params: 1,697,502\n",
      "Non-trainable params: 0\n",
      "_________________________________________________________________\n"
     ]
    }
   ],
   "source": [
    "model = Sequential([\n",
    "    Embedding(vocab_size,embd_dim,input_length=max_seq_len),\n",
    "    LSTM(100,dropout=0.2,recurrent_dropout=0.2),\n",
    "    Dense(128,activation=\"relu\"),\n",
    "    Dense(num_class,activation=\"softmax\")\n",
    "])\n",
    "\n",
    "model.compile(loss=\"categorical_crossentropy\",optimizer=\"adam\",metrics=['accuracy'])\n",
    "model.summary()"
   ]
  },
  {
   "cell_type": "code",
   "execution_count": null,
   "id": "ZoEeJJA9phA0",
   "metadata": {
    "id": "ZoEeJJA9phA0"
   },
   "outputs": [],
   "source": [
    "# from tensorflow.keras.callbacks import EarlyStopping\n",
    "# early_stopping = EarlyStopping()\n",
    "from keras.callbacks import ModelCheckpoint\n",
    "filepath = 'my_best_model.epoch{epoch:02d}-loss{val_loss:.2f}.h5'\n",
    "checkpoint = ModelCheckpoint(filepath=filepath,monitor='val_loss',verbose=1,save_best_only=True,mode='min') \n",
    "call_back = [checkpoint]"
   ]
  },
  {
   "cell_type": "code",
   "execution_count": null,
   "id": "1080b5ab",
   "metadata": {
    "colab": {
     "base_uri": "https://localhost:8080/"
    },
    "id": "1080b5ab",
    "outputId": "42f69c25-35ef-467e-fe32-2d5c4dcdeb68"
   },
   "outputs": [
    {
     "name": "stdout",
     "output_type": "stream",
     "text": [
      "Epoch 1/20\n",
      "32/32 [==============================] - ETA: 0s - loss: 1.6196 - accuracy: 0.3296\n",
      "Epoch 1: val_loss improved from inf to 1.54561, saving model to my_best_model.epoch01-loss1.55.h5\n",
      "32/32 [==============================] - 111s 3s/step - loss: 1.6196 - accuracy: 0.3296 - val_loss: 1.5456 - val_accuracy: 0.3480\n",
      "Epoch 2/20\n",
      "32/32 [==============================] - ETA: 0s - loss: 1.4984 - accuracy: 0.4314\n",
      "Epoch 2: val_loss improved from 1.54561 to 1.33296, saving model to my_best_model.epoch02-loss1.33.h5\n",
      "32/32 [==============================] - 108s 3s/step - loss: 1.4984 - accuracy: 0.4314 - val_loss: 1.3330 - val_accuracy: 0.5345\n",
      "Epoch 3/20\n",
      "32/32 [==============================] - ETA: 0s - loss: 1.0008 - accuracy: 0.6288\n",
      "Epoch 3: val_loss improved from 1.33296 to 0.91678, saving model to my_best_model.epoch03-loss0.92.h5\n",
      "32/32 [==============================] - 107s 3s/step - loss: 1.0008 - accuracy: 0.6288 - val_loss: 0.9168 - val_accuracy: 0.6895\n",
      "Epoch 4/20\n",
      "32/32 [==============================] - ETA: 0s - loss: 0.5988 - accuracy: 0.7954\n",
      "Epoch 4: val_loss improved from 0.91678 to 0.63641, saving model to my_best_model.epoch04-loss0.64.h5\n",
      "32/32 [==============================] - 109s 3s/step - loss: 0.5988 - accuracy: 0.7954 - val_loss: 0.6364 - val_accuracy: 0.7980\n",
      "Epoch 5/20\n",
      "32/32 [==============================] - ETA: 0s - loss: 0.2882 - accuracy: 0.9059\n",
      "Epoch 5: val_loss improved from 0.63641 to 0.50834, saving model to my_best_model.epoch05-loss0.51.h5\n",
      "32/32 [==============================] - 109s 3s/step - loss: 0.2882 - accuracy: 0.9059 - val_loss: 0.5083 - val_accuracy: 0.8405\n",
      "Epoch 6/20\n",
      "32/32 [==============================] - ETA: 0s - loss: 0.1528 - accuracy: 0.9567\n",
      "Epoch 6: val_loss improved from 0.50834 to 0.50162, saving model to my_best_model.epoch06-loss0.50.h5\n",
      "32/32 [==============================] - 110s 3s/step - loss: 0.1528 - accuracy: 0.9567 - val_loss: 0.5016 - val_accuracy: 0.8475\n",
      "Epoch 7/20\n",
      "32/32 [==============================] - ETA: 0s - loss: 0.0978 - accuracy: 0.9716\n",
      "Epoch 7: val_loss did not improve from 0.50162\n",
      "32/32 [==============================] - 108s 3s/step - loss: 0.0978 - accuracy: 0.9716 - val_loss: 0.5083 - val_accuracy: 0.8535\n",
      "Epoch 8/20\n",
      "32/32 [==============================] - ETA: 0s - loss: 0.0729 - accuracy: 0.9780\n",
      "Epoch 8: val_loss did not improve from 0.50162\n",
      "32/32 [==============================] - 111s 3s/step - loss: 0.0729 - accuracy: 0.9780 - val_loss: 0.5294 - val_accuracy: 0.8550\n",
      "Epoch 9/20\n",
      "32/32 [==============================] - ETA: 0s - loss: 0.0577 - accuracy: 0.9821\n",
      "Epoch 9: val_loss did not improve from 0.50162\n",
      "32/32 [==============================] - 108s 3s/step - loss: 0.0577 - accuracy: 0.9821 - val_loss: 0.5729 - val_accuracy: 0.8610\n",
      "Epoch 10/20\n",
      "32/32 [==============================] - ETA: 0s - loss: 0.0467 - accuracy: 0.9860\n",
      "Epoch 10: val_loss did not improve from 0.50162\n",
      "32/32 [==============================] - 107s 3s/step - loss: 0.0467 - accuracy: 0.9860 - val_loss: 0.5669 - val_accuracy: 0.8590\n",
      "Epoch 11/20\n",
      "32/32 [==============================] - ETA: 0s - loss: 0.0406 - accuracy: 0.9880\n",
      "Epoch 11: val_loss did not improve from 0.50162\n",
      "32/32 [==============================] - 108s 3s/step - loss: 0.0406 - accuracy: 0.9880 - val_loss: 0.5876 - val_accuracy: 0.8615\n",
      "Epoch 12/20\n",
      "32/32 [==============================] - ETA: 0s - loss: 0.0387 - accuracy: 0.9874\n",
      "Epoch 12: val_loss did not improve from 0.50162\n",
      "32/32 [==============================] - 110s 3s/step - loss: 0.0387 - accuracy: 0.9874 - val_loss: 0.6239 - val_accuracy: 0.8515\n",
      "Epoch 13/20\n",
      "32/32 [==============================] - ETA: 0s - loss: 0.0319 - accuracy: 0.9900\n",
      "Epoch 13: val_loss did not improve from 0.50162\n",
      "32/32 [==============================] - 108s 3s/step - loss: 0.0319 - accuracy: 0.9900 - val_loss: 0.6753 - val_accuracy: 0.8585\n",
      "Epoch 14/20\n",
      "32/32 [==============================] - ETA: 0s - loss: 0.0299 - accuracy: 0.9909\n",
      "Epoch 14: val_loss did not improve from 0.50162\n",
      "32/32 [==============================] - 109s 3s/step - loss: 0.0299 - accuracy: 0.9909 - val_loss: 0.6271 - val_accuracy: 0.8570\n",
      "Epoch 15/20\n",
      "32/32 [==============================] - ETA: 0s - loss: 0.0250 - accuracy: 0.9925\n",
      "Epoch 15: val_loss did not improve from 0.50162\n",
      "32/32 [==============================] - 109s 3s/step - loss: 0.0250 - accuracy: 0.9925 - val_loss: 0.6931 - val_accuracy: 0.8575\n",
      "Epoch 16/20\n",
      "32/32 [==============================] - ETA: 0s - loss: 0.0219 - accuracy: 0.9927\n",
      "Epoch 16: val_loss did not improve from 0.50162\n",
      "32/32 [==============================] - 110s 3s/step - loss: 0.0219 - accuracy: 0.9927 - val_loss: 0.6701 - val_accuracy: 0.8625\n",
      "Epoch 17/20\n",
      "32/32 [==============================] - ETA: 0s - loss: 0.0203 - accuracy: 0.9936\n",
      "Epoch 17: val_loss did not improve from 0.50162\n",
      "32/32 [==============================] - 109s 3s/step - loss: 0.0203 - accuracy: 0.9936 - val_loss: 0.7058 - val_accuracy: 0.8605\n",
      "Epoch 18/20\n",
      "32/32 [==============================] - ETA: 0s - loss: 0.0196 - accuracy: 0.9933\n",
      "Epoch 18: val_loss did not improve from 0.50162\n",
      "32/32 [==============================] - 109s 3s/step - loss: 0.0196 - accuracy: 0.9933 - val_loss: 0.7077 - val_accuracy: 0.8575\n",
      "Epoch 19/20\n",
      "32/32 [==============================] - ETA: 0s - loss: 0.0197 - accuracy: 0.9933\n",
      "Epoch 19: val_loss did not improve from 0.50162\n",
      "32/32 [==============================] - 108s 3s/step - loss: 0.0197 - accuracy: 0.9933 - val_loss: 0.7186 - val_accuracy: 0.8620\n",
      "Epoch 20/20\n",
      "32/32 [==============================] - ETA: 0s - loss: 0.0176 - accuracy: 0.9943\n",
      "Epoch 20: val_loss did not improve from 0.50162\n",
      "32/32 [==============================] - 105s 3s/step - loss: 0.0176 - accuracy: 0.9943 - val_loss: 0.7237 - val_accuracy: 0.8605\n"
     ]
    },
    {
     "data": {
      "text/plain": [
       "<keras.callbacks.History at 0x7f4799220750>"
      ]
     },
     "execution_count": 66,
     "metadata": {},
     "output_type": "execute_result"
    }
   ],
   "source": [
    "batch_size=512\n",
    "epochs=20\n",
    "\n",
    "model.fit(train_seq_x_pad,train_y,batch_size=batch_size,epochs=epochs,validation_data=(test_seq_x_pad,test_y),callbacks=[call_back])\n"
   ]
  },
  {
   "cell_type": "code",
   "execution_count": null,
   "id": "4f5bfb1e",
   "metadata": {
    "id": "4f5bfb1e"
   },
   "outputs": [],
   "source": [
    "history = model.history"
   ]
  },
  {
   "cell_type": "code",
   "execution_count": null,
   "id": "c4a981ae",
   "metadata": {
    "colab": {
     "base_uri": "https://localhost:8080/",
     "height": 545
    },
    "id": "c4a981ae",
    "outputId": "6c02f0db-dd16-4e0d-a3cd-6720f92f2600"
   },
   "outputs": [
    {
     "data": {
      "image/png": "[encoded data removed]",
      "text/plain": [
       "<Figure size 432x288 with 1 Axes>"
      ]
     },
     "metadata": {
      "needs_background": "light"
     },
     "output_type": "display_data"
    },
    {
     "data": {
      "image/png": "[encoded data removed]",
      "text/plain": [
       "<Figure size 432x288 with 1 Axes>"
      ]
     },
     "metadata": {
      "needs_background": "light"
     },
     "output_type": "display_data"
    }
   ],
   "source": [
    "import matplotlib.pyplot as plt\n",
    "\n",
    "plt.title('Loss')\n",
    "plt.plot(history.history['loss'], label='train')\n",
    "plt.plot(history.history['val_loss'], label='test')\n",
    "plt.legend()\n",
    "plt.show()\n",
    "\n",
    "\n",
    "import matplotlib.pyplot as plt\n",
    "plt.title('Accuracy')\n",
    "plt.plot(history.history['accuracy'], label='train')\n",
    "plt.plot(history.history['val_accuracy'], label='test')\n",
    "plt.legend()\n",
    "plt.show()\n"
   ]
  },
  {
   "cell_type": "code",
   "execution_count": null,
   "id": "69d1172c",
   "metadata": {
    "id": "69d1172c"
   },
   "outputs": [],
   "source": [
    "# save model\n",
    "model.save('lstm_simple.h5')"
   ]
  },
  {
   "cell_type": "code",
   "execution_count": null,
   "id": "f126af6f",
   "metadata": {
    "id": "f126af6f"
   },
   "outputs": [],
   "source": [
    "# from tensorflow import keras. 0.40\n",
    "# model = keras.models.load_model('path/to/location')"
   ]
  },
  {
   "cell_type": "markdown",
   "id": "6de27453",
   "metadata": {
    "id": "6de27453"
   },
   "source": [
    "### Test on Validation set"
   ]
  },
  {
   "cell_type": "code",
   "execution_count": null,
   "id": "9ca3411f",
   "metadata": {
    "colab": {
     "base_uri": "https://localhost:8080/",
     "height": 244
    },
    "id": "9ca3411f",
    "outputId": "2fdcd110-2c89-4dfb-f274-5287620e9cf4"
   },
   "outputs": [
    {
     "name": "stdout",
     "output_type": "stream",
     "text": [
      "2000 [['im feeling quite sad and sorry for myself but ill snap out of it soon', 'sadness'], ['i feel like i am still looking at a blank canvas blank pieces of paper', 'sadness'], ['i feel like a faithful servant', 'love'], ['i am just feeling cranky and blue', 'anger'], ['i can have for a treat or if i am feeling festive', 'joy']]\n"
     ]
    },
    {
     "data": {
      "text/html": [
       "\n",
       "  <div id=\"df-f869c157-b23e-4505-a778-fae46b87bc26\">\n",
       "    <div class=\"colab-df-container\">\n",
       "      <div>\n",
       "<style scoped>\n",
       "    .dataframe tbody tr th:only-of-type {\n",
       "        vertical-align: middle;\n",
       "    }\n",
       "\n",
       "    .dataframe tbody tr th {\n",
       "        vertical-align: top;\n",
       "    }\n",
       "\n",
       "    .dataframe thead th {\n",
       "        text-align: right;\n",
       "    }\n",
       "</style>\n",
       "<table border=\"1\" class=\"dataframe\">\n",
       "  <thead>\n",
       "    <tr style=\"text-align: right;\">\n",
       "      <th></th>\n",
       "      <th>sentence</th>\n",
       "      <th>emotion</th>\n",
       "    </tr>\n",
       "  </thead>\n",
       "  <tbody>\n",
       "    <tr>\n",
       "      <th>0</th>\n",
       "      <td>im feeling quite sad and sorry for myself but ...</td>\n",
       "      <td>sadness</td>\n",
       "    </tr>\n",
       "    <tr>\n",
       "      <th>1</th>\n",
       "      <td>i feel like i am still looking at a blank canv...</td>\n",
       "      <td>sadness</td>\n",
       "    </tr>\n",
       "    <tr>\n",
       "      <th>2</th>\n",
       "      <td>i feel like a faithful servant</td>\n",
       "      <td>love</td>\n",
       "    </tr>\n",
       "    <tr>\n",
       "      <th>3</th>\n",
       "      <td>i am just feeling cranky and blue</td>\n",
       "      <td>anger</td>\n",
       "    </tr>\n",
       "    <tr>\n",
       "      <th>4</th>\n",
       "      <td>i can have for a treat or if i am feeling festive</td>\n",
       "      <td>joy</td>\n",
       "    </tr>\n",
       "  </tbody>\n",
       "</table>\n",
       "</div>\n",
       "      <button class=\"colab-df-convert\" onclick=\"convertToInteractive('df-f869c157-b23e-4505-a778-fae46b87bc26')\"\n",
       "              title=\"Convert this dataframe to an interactive table.\"\n",
       "              style=\"display:none;\">\n",
       "        \n",
       "  <svg xmlns=\"http://www.w3.org/2000/svg\" height=\"24px\"viewBox=\"0 0 24 24\"\n",
       "       width=\"24px\">\n",
       "    <path d=\"M0 0h24v24H0V0z\" fill=\"none\"/>\n",
       "    <path d=\"M18.56 5.44l.94 2.06.94-2.06 2.06-.94-2.06-.94-.94-2.06-.94 2.06-2.06.94zm-11 1L8.5 8.5l.94-2.06 2.06-.94-2.06-.94L8.5 2.5l-.94 2.06-2.06.94zm10 10l.94 2.06.94-2.06 2.06-.94-2.06-.94-.94-2.06-.94 2.06-2.06.94z\"/><path d=\"M17.41 7.96l-1.37-1.37c-.4-.4-.92-.59-1.43-.59-.52 0-1.04.2-1.43.59L10.3 9.45l-7.72 7.72c-.78.78-.78 2.05 0 2.83L4 21.41c.39.39.9.59 1.41.59.51 0 1.02-.2 1.41-.59l7.78-7.78 2.81-2.81c.8-.78.8-2.07 0-2.86zM5.41 20L4 18.59l7.72-7.72 1.47 1.35L5.41 20z\"/>\n",
       "  </svg>\n",
       "      </button>\n",
       "      \n",
       "  <style>\n",
       "    .colab-df-container {\n",
       "      display:flex;\n",
       "      flex-wrap:wrap;\n",
       "      gap: 12px;\n",
       "    }\n",
       "\n",
       "    .colab-df-convert {\n",
       "      background-color: #E8F0FE;\n",
       "      border: none;\n",
       "      border-radius: 50%;\n",
       "      cursor: pointer;\n",
       "      display: none;\n",
       "      fill: #1967D2;\n",
       "      height: 32px;\n",
       "      padding: 0 0 0 0;\n",
       "      width: 32px;\n",
       "    }\n",
       "\n",
       "    .colab-df-convert:hover {\n",
       "      background-color: #E2EBFA;\n",
       "      box-shadow: 0px 1px 2px rgba(60, 64, 67, 0.3), 0px 1px 3px 1px rgba(60, 64, 67, 0.15);\n",
       "      fill: #174EA6;\n",
       "    }\n",
       "\n",
       "    [theme=dark] .colab-df-convert {\n",
       "      background-color: #3B4455;\n",
       "      fill: #D2E3FC;\n",
       "    }\n",
       "\n",
       "    [theme=dark] .colab-df-convert:hover {\n",
       "      background-color: #434B5C;\n",
       "      box-shadow: 0px 1px 3px 1px rgba(0, 0, 0, 0.15);\n",
       "      filter: drop-shadow(0px 1px 2px rgba(0, 0, 0, 0.3));\n",
       "      fill: #FFFFFF;\n",
       "    }\n",
       "  </style>\n",
       "\n",
       "      <script>\n",
       "        const buttonEl =\n",
       "          document.querySelector('#df-f869c157-b23e-4505-a778-fae46b87bc26 button.colab-df-convert');\n",
       "        buttonEl.style.display =\n",
       "          google.colab.kernel.accessAllowed ? 'block' : 'none';\n",
       "\n",
       "        async function convertToInteractive(key) {\n",
       "          const element = document.querySelector('#df-f869c157-b23e-4505-a778-fae46b87bc26');\n",
       "          const dataTable =\n",
       "            await google.colab.kernel.invokeFunction('convertToInteractive',\n",
       "                                                     [key], {});\n",
       "          if (!dataTable) return;\n",
       "\n",
       "          const docLinkHtml = 'Like what you see? Visit the ' +\n",
       "            '<a target=\"_blank\" href=https://colab.research.google.com/notebooks/data_table.ipynb>data table notebook</a>'\n",
       "            + ' to learn more about interactive tables.';\n",
       "          element.innerHTML = '';\n",
       "          dataTable['output_type'] = 'display_data';\n",
       "          await google.colab.output.renderOutput(dataTable, element);\n",
       "          const docLink = document.createElement('div');\n",
       "          docLink.innerHTML = docLinkHtml;\n",
       "          element.appendChild(docLink);\n",
       "        }\n",
       "      </script>\n",
       "    </div>\n",
       "  </div>\n",
       "  "
      ],
      "text/plain": [
       "                                            sentence  emotion\n",
       "0  im feeling quite sad and sorry for myself but ...  sadness\n",
       "1  i feel like i am still looking at a blank canv...  sadness\n",
       "2                     i feel like a faithful servant     love\n",
       "3                  i am just feeling cranky and blue    anger\n",
       "4  i can have for a treat or if i am feeling festive      joy"
      ]
     },
     "execution_count": 69,
     "metadata": {},
     "output_type": "execute_result"
    }
   ],
   "source": [
    "# validation set\n",
    "val_data = []\n",
    "with open('./../dataset/val.txt') as fp:\n",
    "    temp = fp.readlines()\n",
    "    for t in temp:\n",
    "        sen,emt = t.rsplit(';',maxsplit=1)\n",
    "        val_data.append([sen,emt.replace('\\n','')])\n",
    "print(len(val_data),val_data[:5])\n",
    "val_df = pd.DataFrame(val_data,columns=['sentence','emotion'])\n",
    "val_df.head()"
   ]
  },
  {
   "cell_type": "code",
   "execution_count": null,
   "id": "8fad13d7",
   "metadata": {
    "colab": {
     "base_uri": "https://localhost:8080/"
    },
    "id": "8fad13d7",
    "outputId": "413f836b-1a7b-478d-a685-609bdca7a723"
   },
   "outputs": [
    {
     "name": "stdout",
     "output_type": "stream",
     "text": [
      "<class 'pandas.core.frame.DataFrame'>\n",
      "RangeIndex: 2000 entries, 0 to 1999\n",
      "Data columns (total 2 columns):\n",
      " #   Column    Non-Null Count  Dtype \n",
      "---  ------    --------------  ----- \n",
      " 0   sentence  2000 non-null   object\n",
      " 1   emotion   2000 non-null   object\n",
      "dtypes: object(2)\n",
      "memory usage: 31.4+ KB\n"
     ]
    }
   ],
   "source": [
    "val_df.info()"
   ]
  },
  {
   "cell_type": "code",
   "execution_count": null,
   "id": "b3bf0114",
   "metadata": {
    "colab": {
     "base_uri": "https://localhost:8080/",
     "height": 206
    },
    "id": "b3bf0114",
    "outputId": "d75c5448-f3e8-471c-89d0-60728f21d9b1"
   },
   "outputs": [
    {
     "data": {
      "text/html": [
       "\n",
       "  <div id=\"df-449842b4-5edf-4ff4-8e2f-e663271603e8\">\n",
       "    <div class=\"colab-df-container\">\n",
       "      <div>\n",
       "<style scoped>\n",
       "    .dataframe tbody tr th:only-of-type {\n",
       "        vertical-align: middle;\n",
       "    }\n",
       "\n",
       "    .dataframe tbody tr th {\n",
       "        vertical-align: top;\n",
       "    }\n",
       "\n",
       "    .dataframe thead th {\n",
       "        text-align: right;\n",
       "    }\n",
       "</style>\n",
       "<table border=\"1\" class=\"dataframe\">\n",
       "  <thead>\n",
       "    <tr style=\"text-align: right;\">\n",
       "      <th></th>\n",
       "      <th>sentence</th>\n",
       "      <th>emotion</th>\n",
       "      <th>clean_sentence</th>\n",
       "    </tr>\n",
       "  </thead>\n",
       "  <tbody>\n",
       "    <tr>\n",
       "      <th>0</th>\n",
       "      <td>im feeling quite sad and sorry for myself but ...</td>\n",
       "      <td>sadness</td>\n",
       "      <td>im feeling quite sad sorry ill snap soon</td>\n",
       "    </tr>\n",
       "    <tr>\n",
       "      <th>1</th>\n",
       "      <td>i feel like i am still looking at a blank canv...</td>\n",
       "      <td>sadness</td>\n",
       "      <td>feel like still looking blank canvas blank pie...</td>\n",
       "    </tr>\n",
       "    <tr>\n",
       "      <th>2</th>\n",
       "      <td>i feel like a faithful servant</td>\n",
       "      <td>love</td>\n",
       "      <td>feel like faithful servant</td>\n",
       "    </tr>\n",
       "    <tr>\n",
       "      <th>3</th>\n",
       "      <td>i am just feeling cranky and blue</td>\n",
       "      <td>anger</td>\n",
       "      <td>feeling cranky blue</td>\n",
       "    </tr>\n",
       "    <tr>\n",
       "      <th>4</th>\n",
       "      <td>i can have for a treat or if i am feeling festive</td>\n",
       "      <td>joy</td>\n",
       "      <td>treat feeling festive</td>\n",
       "    </tr>\n",
       "  </tbody>\n",
       "</table>\n",
       "</div>\n",
       "      <button class=\"colab-df-convert\" onclick=\"convertToInteractive('df-449842b4-5edf-4ff4-8e2f-e663271603e8')\"\n",
       "              title=\"Convert this dataframe to an interactive table.\"\n",
       "              style=\"display:none;\">\n",
       "        \n",
       "  <svg xmlns=\"http://www.w3.org/2000/svg\" height=\"24px\"viewBox=\"0 0 24 24\"\n",
       "       width=\"24px\">\n",
       "    <path d=\"M0 0h24v24H0V0z\" fill=\"none\"/>\n",
       "    <path d=\"M18.56 5.44l.94 2.06.94-2.06 2.06-.94-2.06-.94-.94-2.06-.94 2.06-2.06.94zm-11 1L8.5 8.5l.94-2.06 2.06-.94-2.06-.94L8.5 2.5l-.94 2.06-2.06.94zm10 10l.94 2.06.94-2.06 2.06-.94-2.06-.94-.94-2.06-.94 2.06-2.06.94z\"/><path d=\"M17.41 7.96l-1.37-1.37c-.4-.4-.92-.59-1.43-.59-.52 0-1.04.2-1.43.59L10.3 9.45l-7.72 7.72c-.78.78-.78 2.05 0 2.83L4 21.41c.39.39.9.59 1.41.59.51 0 1.02-.2 1.41-.59l7.78-7.78 2.81-2.81c.8-.78.8-2.07 0-2.86zM5.41 20L4 18.59l7.72-7.72 1.47 1.35L5.41 20z\"/>\n",
       "  </svg>\n",
       "      </button>\n",
       "      \n",
       "  <style>\n",
       "    .colab-df-container {\n",
       "      display:flex;\n",
       "      flex-wrap:wrap;\n",
       "      gap: 12px;\n",
       "    }\n",
       "\n",
       "    .colab-df-convert {\n",
       "      background-color: #E8F0FE;\n",
       "      border: none;\n",
       "      border-radius: 50%;\n",
       "      cursor: pointer;\n",
       "      display: none;\n",
       "      fill: #1967D2;\n",
       "      height: 32px;\n",
       "      padding: 0 0 0 0;\n",
       "      width: 32px;\n",
       "    }\n",
       "\n",
       "    .colab-df-convert:hover {\n",
       "      background-color: #E2EBFA;\n",
       "      box-shadow: 0px 1px 2px rgba(60, 64, 67, 0.3), 0px 1px 3px 1px rgba(60, 64, 67, 0.15);\n",
       "      fill: #174EA6;\n",
       "    }\n",
       "\n",
       "    [theme=dark] .colab-df-convert {\n",
       "      background-color: #3B4455;\n",
       "      fill: #D2E3FC;\n",
       "    }\n",
       "\n",
       "    [theme=dark] .colab-df-convert:hover {\n",
       "      background-color: #434B5C;\n",
       "      box-shadow: 0px 1px 3px 1px rgba(0, 0, 0, 0.15);\n",
       "      filter: drop-shadow(0px 1px 2px rgba(0, 0, 0, 0.3));\n",
       "      fill: #FFFFFF;\n",
       "    }\n",
       "  </style>\n",
       "\n",
       "      <script>\n",
       "        const buttonEl =\n",
       "          document.querySelector('#df-449842b4-5edf-4ff4-8e2f-e663271603e8 button.colab-df-convert');\n",
       "        buttonEl.style.display =\n",
       "          google.colab.kernel.accessAllowed ? 'block' : 'none';\n",
       "\n",
       "        async function convertToInteractive(key) {\n",
       "          const element = document.querySelector('#df-449842b4-5edf-4ff4-8e2f-e663271603e8');\n",
       "          const dataTable =\n",
       "            await google.colab.kernel.invokeFunction('convertToInteractive',\n",
       "                                                     [key], {});\n",
       "          if (!dataTable) return;\n",
       "\n",
       "          const docLinkHtml = 'Like what you see? Visit the ' +\n",
       "            '<a target=\"_blank\" href=https://colab.research.google.com/notebooks/data_table.ipynb>data table notebook</a>'\n",
       "            + ' to learn more about interactive tables.';\n",
       "          element.innerHTML = '';\n",
       "          dataTable['output_type'] = 'display_data';\n",
       "          await google.colab.output.renderOutput(dataTable, element);\n",
       "          const docLink = document.createElement('div');\n",
       "          docLink.innerHTML = docLinkHtml;\n",
       "          element.appendChild(docLink);\n",
       "        }\n",
       "      </script>\n",
       "    </div>\n",
       "  </div>\n",
       "  "
      ],
      "text/plain": [
       "                                            sentence  ...                                     clean_sentence\n",
       "0  im feeling quite sad and sorry for myself but ...  ...           im feeling quite sad sorry ill snap soon\n",
       "1  i feel like i am still looking at a blank canv...  ...  feel like still looking blank canvas blank pie...\n",
       "2                     i feel like a faithful servant  ...                         feel like faithful servant\n",
       "3                  i am just feeling cranky and blue  ...                                feeling cranky blue\n",
       "4  i can have for a treat or if i am feeling festive  ...                              treat feeling festive\n",
       "\n",
       "[5 rows x 3 columns]"
      ]
     },
     "execution_count": 71,
     "metadata": {},
     "output_type": "execute_result"
    }
   ],
   "source": [
    "val_df['clean_sentence'] = val_df['sentence'].apply(lambda x: clean_text(x))\n",
    "val_df.head()"
   ]
  },
  {
   "cell_type": "code",
   "execution_count": null,
   "id": "603a9712",
   "metadata": {
    "colab": {
     "base_uri": "https://localhost:8080/"
    },
    "id": "603a9712",
    "outputId": "bde8d8b7-6e13-46c5-803a-fd83f5854e08"
   },
   "outputs": [
    {
     "data": {
      "text/plain": [
       "(2000, 500)"
      ]
     },
     "execution_count": 72,
     "metadata": {},
     "output_type": "execute_result"
    }
   ],
   "source": [
    "val_seq = tokenizer.texts_to_sequences(val_df['clean_sentence'].values)\n",
    "val_seq_x_pad = pad_sequences(val_seq,maxlen=max_seq_len)\n",
    "val_seq_x_pad.shape"
   ]
  },
  {
   "cell_type": "code",
   "execution_count": null,
   "id": "8fb870cf",
   "metadata": {
    "id": "8fb870cf"
   },
   "outputs": [],
   "source": [
    "val_df['enc_emotion'] = label_encode.transform(val_df['emotion'])\n",
    "val_y = pd.get_dummies(val_df['enc_emotion']).values"
   ]
  },
  {
   "cell_type": "code",
   "execution_count": null,
   "id": "9e4cf902",
   "metadata": {
    "colab": {
     "base_uri": "https://localhost:8080/"
    },
    "id": "9e4cf902",
    "outputId": "0b2bf59b-b151-497e-ab89-10b756a31221"
   },
   "outputs": [
    {
     "data": {
      "text/plain": [
       "((2000, 500), (2000, 6))"
      ]
     },
     "execution_count": 74,
     "metadata": {},
     "output_type": "execute_result"
    }
   ],
   "source": [
    "val_seq_x_pad.shape,val_y.shape"
   ]
  },
  {
   "cell_type": "code",
   "execution_count": null,
   "id": "967e6869",
   "metadata": {
    "id": "967e6869"
   },
   "outputs": [],
   "source": [
    "val_res = model.predict(val_seq_x_pad)"
   ]
  },
  {
   "cell_type": "code",
   "execution_count": null,
   "id": "3b267611",
   "metadata": {
    "colab": {
     "base_uri": "https://localhost:8080/"
    },
    "id": "3b267611",
    "outputId": "f64ccf56-9784-476a-c0df-88aa3e86d128"
   },
   "outputs": [
    {
     "data": {
      "text/plain": [
       "(2000, 2000)"
      ]
     },
     "execution_count": 76,
     "metadata": {},
     "output_type": "execute_result"
    }
   ],
   "source": [
    "res=[np.argmax(i) for i in val_res]\n",
    "len(res),len(val_df['enc_emotion'].values)"
   ]
  },
  {
   "cell_type": "code",
   "execution_count": null,
   "id": "4b67cef4",
   "metadata": {
    "colab": {
     "base_uri": "https://localhost:8080/"
    },
    "id": "4b67cef4",
    "outputId": "be147742-2466-4791-8b56-d98ac325c219"
   },
   "outputs": [
    {
     "name": "stdout",
     "output_type": "stream",
     "text": [
      "              precision    recall  f1-score   support\n",
      "\n",
      "           0       0.89      0.84      0.87       291\n",
      "           1       0.78      0.82      0.80       202\n",
      "           2       0.91      0.89      0.90       718\n",
      "           3       0.70      0.82      0.76       153\n",
      "           4       0.91      0.89      0.90       562\n",
      "           5       0.70      0.77      0.74        74\n",
      "\n",
      "    accuracy                           0.87      2000\n",
      "   macro avg       0.82      0.84      0.83      2000\n",
      "weighted avg       0.87      0.87      0.87      2000\n",
      "\n"
     ]
    }
   ],
   "source": [
    "from sklearn.metrics import classification_report\n",
    "print(classification_report(res,val_df['enc_emotion'].values))"
   ]
  },
  {
   "cell_type": "code",
   "execution_count": null,
   "id": "e1ddcebc",
   "metadata": {
    "id": "e1ddcebc"
   },
   "outputs": [],
   "source": []
  },
  {
   "cell_type": "code",
   "execution_count": null,
   "id": "636f58fe",
   "metadata": {
    "id": "636f58fe"
   },
   "outputs": [],
   "source": []
  },
  {
   "cell_type": "code",
   "execution_count": null,
   "id": "299d5c7d",
   "metadata": {
    "id": "299d5c7d"
   },
   "outputs": [],
   "source": [
    "# res,label_encode.inverse_transform([res])"
   ]
  },
  {
   "cell_type": "code",
   "execution_count": null,
   "id": "a977b6de",
   "metadata": {
    "id": "a977b6de"
   },
   "outputs": [],
   "source": [
    "# val_res"
   ]
  },
  {
   "cell_type": "code",
   "execution_count": null,
   "id": "306b6ccb",
   "metadata": {
    "id": "306b6ccb"
   },
   "outputs": [],
   "source": []
  }
 ],
 "metadata": {
  "accelerator": "GPU",
  "colab": {
   "name": "main.ipynb",
   "provenance": []
  },
  "kernelspec": {
   "display_name": "Python 3",
   "language": "python",
   "name": "python3"
  },
  "language_info": {
   "codemirror_mode": {
    "name": "ipython",
    "version": 3
   },
   "file_extension": ".py",
   "mimetype": "text/x-python",
   "name": "python",
   "nbconvert_exporter": "python",
   "pygments_lexer": "ipython3",
   "version": "3.8.8"
  }
 },
 "nbformat": 4,
 "nbformat_minor": 5
}
